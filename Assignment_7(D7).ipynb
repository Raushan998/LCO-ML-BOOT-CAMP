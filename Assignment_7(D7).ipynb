{
 "cells": [
  {
   "cell_type": "raw",
   "metadata": {},
   "source": [
    "Find nth Non square no."
   ]
  },
  {
   "cell_type": "code",
   "execution_count": 15,
   "metadata": {},
   "outputs": [
    {
     "name": "stdout",
     "output_type": "stream",
     "text": [
      "5\n"
     ]
    },
    {
     "data": {
      "text/plain": [
       "7"
      ]
     },
     "execution_count": 15,
     "metadata": {},
     "output_type": "execute_result"
    }
   ],
   "source": [
    "import math\n",
    "def nonsquarenumber(n):\n",
    "    ans=n+math.floor(0.5+math.sqrt(n))\n",
    "    return(ans)\n",
    "n=int(input())\n",
    "nonsquarenumber(n)"
   ]
  },
  {
   "cell_type": "raw",
   "metadata": {},
   "source": [
    "Find GCD by Euclid's Algorithm"
   ]
  },
  {
   "cell_type": "code",
   "execution_count": 13,
   "metadata": {},
   "outputs": [
    {
     "name": "stdout",
     "output_type": "stream",
     "text": [
      "45\n",
      "67\n"
     ]
    },
    {
     "data": {
      "text/plain": [
       "1"
      ]
     },
     "execution_count": 13,
     "metadata": {},
     "output_type": "execute_result"
    }
   ],
   "source": [
    "def gcd(m,n):\n",
    "    if m<n:\n",
    "        (m,n)=(n,m)\n",
    "    if m%n==0:\n",
    "        return n\n",
    "    else:\n",
    "        return(gcd(n,m%n))\n",
    "m=int(input())\n",
    "n=int(input())\n",
    "gcd(m,n)"
   ]
  },
  {
   "cell_type": "raw",
   "metadata": {},
   "source": [
    "Implement An StopWatch"
   ]
  },
  {
   "cell_type": "code",
   "execution_count": 1,
   "metadata": {},
   "outputs": [
    {
     "name": "stdout",
     "output_type": "stream",
     "text": [
      "Enter the hour:00\n",
      "Enter the minute:1\n",
      "Enter the seconds:20\n",
      "0 0 : 0 0 : 0 0\n",
      "0 0 : 0 0 : 0 1\n",
      "0 0 : 0 0 : 0 2\n",
      "0 0 : 0 0 : 0 3\n",
      "0 0 : 0 0 : 0 4\n",
      "0 0 : 0 0 : 0 5\n",
      "0 0 : 0 0 : 0 6\n",
      "0 0 : 0 0 : 0 7\n",
      "0 0 : 0 0 : 0 8\n",
      "0 0 : 0 0 : 0 9\n",
      "0 0 : 0 0 : 10\n",
      "0 0 : 0 0 : 11\n",
      "0 0 : 0 0 : 12\n",
      "0 0 : 0 0 : 13\n",
      "0 0 : 0 0 : 14\n",
      "0 0 : 0 0 : 15\n",
      "0 0 : 0 0 : 16\n",
      "0 0 : 0 0 : 17\n",
      "0 0 : 0 0 : 18\n",
      "0 0 : 0 0 : 19\n",
      "0 0 : 0 0 : 20\n",
      "0 0 : 0 0 : 21\n",
      "0 0 : 0 0 : 22\n",
      "0 0 : 0 0 : 23\n",
      "0 0 : 0 0 : 24\n",
      "0 0 : 0 0 : 25\n",
      "0 0 : 0 0 : 26\n",
      "0 0 : 0 0 : 27\n",
      "0 0 : 0 0 : 28\n",
      "0 0 : 0 0 : 29\n",
      "0 0 : 0 0 : 30\n",
      "0 0 : 0 0 : 31\n",
      "0 0 : 0 0 : 32\n",
      "0 0 : 0 0 : 33\n",
      "0 0 : 0 0 : 34\n",
      "0 0 : 0 0 : 35\n",
      "0 0 : 0 0 : 36\n",
      "0 0 : 0 0 : 37\n",
      "0 0 : 0 0 : 38\n",
      "0 0 : 0 0 : 39\n",
      "0 0 : 0 0 : 40\n",
      "0 0 : 0 0 : 41\n",
      "0 0 : 0 0 : 42\n",
      "0 0 : 0 0 : 43\n",
      "0 0 : 0 0 : 44\n",
      "0 0 : 0 0 : 45\n",
      "0 0 : 0 0 : 46\n",
      "0 0 : 0 0 : 47\n",
      "0 0 : 0 0 : 48\n",
      "0 0 : 0 0 : 49\n",
      "0 0 : 0 0 : 50\n",
      "0 0 : 0 0 : 51\n",
      "0 0 : 0 0 : 52\n",
      "0 0 : 0 0 : 53\n",
      "0 0 : 0 0 : 54\n",
      "0 0 : 0 0 : 55\n",
      "0 0 : 0 0 : 56\n",
      "0 0 : 0 0 : 57\n",
      "0 0 : 0 0 : 58\n",
      "0 0 : 0 0 : 59\n",
      "0 0 : 0 1 : 0 0\n",
      "0 0 : 0 1 : 0 1\n",
      "0 0 : 0 1 : 0 2\n",
      "0 0 : 0 1 : 0 3\n",
      "0 0 : 0 1 : 0 4\n",
      "0 0 : 0 1 : 0 5\n",
      "0 0 : 0 1 : 0 6\n",
      "0 0 : 0 1 : 0 7\n",
      "0 0 : 0 1 : 0 8\n",
      "0 0 : 0 1 : 0 9\n",
      "0 0 : 0 1 : 10\n",
      "0 0 : 0 1 : 11\n",
      "0 0 : 0 1 : 12\n",
      "0 0 : 0 1 : 13\n",
      "0 0 : 0 1 : 14\n",
      "0 0 : 0 1 : 15\n",
      "0 0 : 0 1 : 16\n",
      "0 0 : 0 1 : 17\n",
      "0 0 : 0 1 : 18\n",
      "0 0 : 0 1 : 19\n",
      "0 0 : 0 1 : 20\n"
     ]
    }
   ],
   "source": [
    "import time\n",
    "h=int(input(\"Enter the hour:\"))\n",
    "m=int(input(\"Enter the minute:\"))\n",
    "s=int(input(\"Enter the seconds:\"))\n",
    "hour=00\n",
    "minutes=00\n",
    "sec=00\n",
    "while True:\n",
    "    if sec<10 and minutes<10 and hour<10:\n",
    "        print(\"0\",str(hour),\":\",\"0\",str(minutes),\":\",\"0\",str(sec))\n",
    "    elif sec>=10 and minutes<10:\n",
    "        print(\"0\",str(hour),\":\",\"0\",str(minutes),\":\",str(sec))\n",
    "    elif sec>=10 and minutes>=10 and hour<10:\n",
    "        print(\"0\",str(hour),\":\",str(minutes),\":\",str(sec))\n",
    "    else:\n",
    "         print(str(hour),\":\",str(minutes),\":\",str(sec))\n",
    "        \n",
    "    sec+=1\n",
    "    if sec==60:\n",
    "        minutes+=1\n",
    "        sec=0\n",
    "    if minutes==60:\n",
    "        minutes=0\n",
    "        hour+=1\n",
    "    if hour==h and minutes==m and sec==s:\n",
    "        if sec<10 and minutes<10 and hour<10:\n",
    "            print(\"0\",str(hour),\":\",\"0\",str(minutes),\":\",\"0\",str(sec))\n",
    "        elif sec>=10 and minutes<10:\n",
    "            print(\"0\",str(hour),\":\",\"0\",str(minutes),\":\",str(sec))\n",
    "        elif sec>=10 and minutes>=10 and hour<10:\n",
    "            print(\"0\",str(hour),\":\",str(minutes),\":\",str(sec))\n",
    "        else:\n",
    "            print(str(hour),\":\",str(minutes),\":\",str(sec))\n",
    "        break\n",
    "    time.sleep(1)\n",
    "        "
   ]
  },
  {
   "cell_type": "code",
   "execution_count": null,
   "metadata": {},
   "outputs": [],
   "source": []
  },
  {
   "cell_type": "code",
   "execution_count": 3,
   "metadata": {},
   "outputs": [],
   "source": [
    "import time"
   ]
  },
  {
   "cell_type": "code",
   "execution_count": 9,
   "metadata": {},
   "outputs": [
    {
     "name": "stdout",
     "output_type": "stream",
     "text": [
      "<built-in function time>\n"
     ]
    }
   ],
   "source": [
    "print(time.time())"
   ]
  },
  {
   "cell_type": "code",
   "execution_count": null,
   "metadata": {},
   "outputs": [],
   "source": []
  }
 ],
 "metadata": {
  "kernelspec": {
   "display_name": "Python 3",
   "language": "python",
   "name": "python3"
  },
  "language_info": {
   "codemirror_mode": {
    "name": "ipython",
    "version": 3
   },
   "file_extension": ".py",
   "mimetype": "text/x-python",
   "name": "python",
   "nbconvert_exporter": "python",
   "pygments_lexer": "ipython3",
   "version": "3.6.5"
  }
 },
 "nbformat": 4,
 "nbformat_minor": 2
}
