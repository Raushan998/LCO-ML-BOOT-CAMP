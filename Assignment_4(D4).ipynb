{
 "cells": [
  {
   "cell_type": "markdown",
   "metadata": {},
   "source": [
    "## P1\n",
    "\n",
    "### Implement Binary Search For An Sorted Array (Assume Array Is Sorted)"
   ]
  },
  {
   "cell_type": "code",
   "execution_count": 6,
   "metadata": {},
   "outputs": [
    {
     "name": "stdout",
     "output_type": "stream",
     "text": [
      "12 34 89 120 345 789\n",
      "789\n"
     ]
    },
    {
     "data": {
      "text/plain": [
       "True"
      ]
     },
     "execution_count": 6,
     "metadata": {},
     "output_type": "execute_result"
    }
   ],
   "source": [
    "list1=list(map(int,input().split()))\n",
    "num=int(input())\n",
    "r=0\n",
    "l=int(len(list1))\n",
    "\n",
    "def binarysearch(list1,num,r,l):\n",
    "    mid=(r+l)//2\n",
    "    if l-r==0:\n",
    "        return False\n",
    "    elif  num==list1[mid]:\n",
    "        return(True)\n",
    "    elif num<list1[mid]:\n",
    "        return(binarysearch(list1,num,r,mid-1))\n",
    "    else:\n",
    "        return(binarysearch(list1,num,mid+1,l))\n",
    "\n",
    "binarysearch(list1,num,r,l)"
   ]
  },
  {
   "cell_type": "markdown",
   "metadata": {},
   "source": [
    "## P2\n",
    "\n",
    "### Implement Gates: (Output Is Always Going To Be In The Form Of Binary Inputs 0 or 1)\n",
    "\n",
    "+ OR gate\n",
    "+ NOT gate\n",
    "+ AND gate\n",
    "+ NAND gate\n",
    "+ XOR gate\n",
    "+ NOR gate\n"
   ]
  },
  {
   "cell_type": "code",
   "execution_count": 29,
   "metadata": {},
   "outputs": [
    {
     "name": "stdout",
     "output_type": "stream",
     "text": [
      "1 0\n"
     ]
    },
    {
     "data": {
      "text/plain": [
       "True"
      ]
     },
     "execution_count": 29,
     "metadata": {},
     "output_type": "execute_result"
    }
   ],
   "source": [
    "#OR GATE\n",
    "\n",
    "def AND (a,b):\n",
    "\n",
    "    if a == 1 and b == 1:\n",
    "        return 1\n",
    "    else:\n",
    "        return 0\n",
    "\n",
    "\n",
    "\n",
    "def NAND (a,b):\n",
    "    if a == 1 and b == 1:\n",
    "        return 0\n",
    "    else:\n",
    "        return 1\n",
    "\n",
    "\n",
    "def OR(a,b):\n",
    "    if a == 1:\n",
    "        return 1\n",
    "    elif b == 1:\n",
    "        return 1\n",
    "    else:\n",
    "        return 0\n",
    "\n",
    "\n",
    "def NOR (a,b):\n",
    "    if a != b:\n",
    "        return 1\n",
    "    else:\n",
    "        return 1\n",
    "def XOR(a,b):\n",
    "    if a==1 and b==1:\n",
    "        return(False)\n",
    "    elif (a==1 or b==0) or (a==0 or b==1) :\n",
    "        return True\n",
    "    if a==0 and b==0:\n",
    "        return(False)\n",
    "n=list(map(int,input().split()))\n",
    "a=n[0]\n",
    "b=n[1]\n",
    "XOR(a,b)"
   ]
  },
  {
   "cell_type": "markdown",
   "metadata": {},
   "source": [
    "## P3\n",
    "\n",
    "### Build An Calculator"
   ]
  },
  {
   "cell_type": "code",
   "execution_count": null,
   "metadata": {},
   "outputs": [
    {
     "name": "stdout",
     "output_type": "stream",
     "text": [
      "Enter the numbers for operations:\n",
      "1 4 5 7 8 9\n",
      "1.add\n",
      "2.substract\n",
      "3.multiply\n",
      "4.divide\n",
      "enter the operations:\n"
     ]
    }
   ],
   "source": [
    "def add(list1):\n",
    "    k=0\n",
    "    for i in range(len(list1)):\n",
    "        k=k+list1[i]\n",
    "    print(k)\n",
    "def substract(list1):\n",
    "    i=0\n",
    "    while(i<len(list1)):\n",
    "        if i==len(list1)-1:\n",
    "            k=k-list1[i]\n",
    "        else:\n",
    "            k=list1[i]-list1[i+1]\n",
    "        i+=2\n",
    "    print(k)\n",
    "def multiply(list1):\n",
    "    k=1\n",
    "    for i in range(len(list1)):\n",
    "        k=k*list1[i]\n",
    "    print(k)\n",
    "def divide(list1):\n",
    "    for i in range(1):\n",
    "        k=list1[i]%list1[i+1]\n",
    "    print(k)\n",
    "print(\"Enter the numbers for operations:\")\n",
    "list1=list(map(int,input().split()))\n",
    "print(\"1.add\\n2.substract\\n3.multiply\\n4.divide\\nenter the operations:\")\n",
    "n=(input())\n",
    "if n==\"add\":\n",
    "    add(list1)\n",
    "if n==\"substract\":\n",
    "    substract(list1)\n",
    "if n==\"multiply\":\n",
    "    multiply(list1)\n",
    "if n==\"divide\":\n",
    "    divide(list1)\n",
    "\n",
    "\n",
    "        "
   ]
  },
  {
   "cell_type": "markdown",
   "metadata": {},
   "source": [
    "## P4\n",
    "\n",
    "Question:\n",
    "Write a program which takes 2 digits, X,Y as input and generates a 2-dimensional array. The element value in the i-th row and j-th column of the array should be i*j.\n",
    "Note: i=0,1.., X-1; j=0,1,¡­Y-1.\n",
    "\n",
    "Example\n",
    "\n",
    "Suppose the following inputs are given to the program:\n",
    "\n",
    "3,5\n",
    "\n",
    "Then, the output of the program should be:\n",
    "\n",
    "[[0, 0, 0, 0, 0], [0, 1, 2, 3, 4], [0, 2, 4, 6, 8]] \n",
    "\n",
    "Hints:\n",
    "Note: In case of input data being supplied to the question, it should be assumed to be a console input in a comma-separated for"
   ]
  },
  {
   "cell_type": "code",
   "execution_count": 9,
   "metadata": {},
   "outputs": [
    {
     "name": "stdout",
     "output_type": "stream",
     "text": [
      "Enter the number of elements:\n",
      "5\n",
      "Enter the number of list:\n",
      "3\n",
      "[[0, 0, 0, 0, 0], [0, 1, 2, 3, 4], [0, 2, 4, 6, 8]]\n"
     ]
    }
   ],
   "source": [
    "print(\"Enter the number of elements:\")\n",
    "m=int(input())\n",
    "print(\"Enter the number of list:\")\n",
    "n=int(input())\n",
    "l=[[0 for i in range(m)] for j in range(n)]\n",
    "for i in range(n):\n",
    "    for j in range(m):\n",
    "        for k in range(i+1):\n",
    "            if k==i:\n",
    "                if j>0:\n",
    "                    l[i][j]=l[i][j-1]+i\n",
    "                \n",
    "        #if i==1:\n",
    "          #  if j>0:\n",
    "           #     l[i][j]=l[i][j-1]+1\n",
    "        #if i==2:\n",
    "        #    if j>0:\n",
    "         #       l[i][j]=l[i][j-1]+2\n",
    "print(l)"
   ]
  },
  {
   "cell_type": "markdown",
   "metadata": {},
   "source": [
    "## P5\n",
    "\n",
    "### Implement Mathematics Linear Equation :\n",
    "\n",
    "#                     y = mx + c"
   ]
  },
  {
   "cell_type": "code",
   "execution_count": 2,
   "metadata": {},
   "outputs": [
    {
     "name": "stdout",
     "output_type": "stream",
     "text": [
      "-20 -15\n",
      "-18 -89\n",
      "Required equation will be:\n",
      "y-20=-0.07042253521126761x-1.267605633802817\n"
     ]
    },
    {
     "data": {
      "text/plain": [
       "[<matplotlib.lines.Line2D at 0x2b0c1a1c0b8>]"
      ]
     },
     "execution_count": 2,
     "metadata": {},
     "output_type": "execute_result"
    }
   ],
   "source": [
    "import matplotlib.pyplot as plt\n",
    "y3=list(map(int,input().split()))\n",
    "x3=list(map(int,input().split()))\n",
    "y1=y3[0]\n",
    "y2=y3[1]\n",
    "x1=x3[0]\n",
    "x2=x3[1]\n",
    "m=(y2-y1)/(x2-x1)\n",
    "p=str(m)\n",
    "print(\"Required equation will be:\") \n",
    "print(\"y\",y1,\"=\",p+\"x\",\"-\",m*x1,sep=\"\")\n",
    "plt.plot(y3,x3)"
   ]
  },
  {
   "cell_type": "markdown",
   "metadata": {},
   "source": [
    "## P6\n",
    "\n",
    "Write a program that accepts sequence of lines as input and prints the lines after making all characters in the sentence capitalized.\n",
    "Suppose the following input is supplied to the program:\n",
    "\n",
    "Hello world\n",
    "Practice makes perfect\n",
    "\n",
    "Then, the output should be:\n",
    "\n",
    "HELLO WORLD\n",
    "PRACTICE MAKES PERFECT"
   ]
  },
  {
   "cell_type": "code",
   "execution_count": 48,
   "metadata": {},
   "outputs": [
    {
     "name": "stdout",
     "output_type": "stream",
     "text": [
      "Hello world Practice makes perfect\n"
     ]
    },
    {
     "data": {
      "text/plain": [
       "'HELLO WORLD PRACTICE MAKES PERFECT'"
      ]
     },
     "execution_count": 48,
     "metadata": {},
     "output_type": "execute_result"
    }
   ],
   "source": [
    "x=str(input())\n",
    "x.upper()"
   ]
  },
  {
   "cell_type": "markdown",
   "metadata": {},
   "source": [
    "## P6\n",
    "\n",
    "### Implement Functions:(Use Numpy)\n",
    "\n",
    "+ Sigmoid\n",
    "+ Tanh\n",
    "+ ReLu\n",
    "+ Leaky ReLu\n",
    "+ Identity\n",
    "+ Binary"
   ]
  },
  {
   "cell_type": "code",
   "execution_count": null,
   "metadata": {},
   "outputs": [],
   "source": []
  },
  {
   "cell_type": "markdown",
   "metadata": {},
   "source": [
    "## P7\n",
    "\n",
    "### Implement How To Find Mean(), Variance(), Standard Deviation()."
   ]
  },
  {
   "cell_type": "code",
   "execution_count": 57,
   "metadata": {},
   "outputs": [
    {
     "name": "stdout",
     "output_type": "stream",
     "text": [
      "4 5 6 7 8 9 1 3 45 67 120 450 987\n"
     ]
    },
    {
     "data": {
      "text/plain": [
       "284.66453491065135"
      ]
     },
     "execution_count": 57,
     "metadata": {},
     "output_type": "execute_result"
    }
   ],
   "source": [
    "import statistics\n",
    "m=list(map(int,input().split()))\n",
    "statistics.mean(m)\n",
    "statistics.variance(m)\n",
    "statistics.stdev(m)\n"
   ]
  },
  {
   "cell_type": "markdown",
   "metadata": {},
   "source": [
    "## P8\n",
    "\n",
    "Question:\n",
    "Write a program which accepts a sequence of comma separated 4 digit binary numbers as its input and then check whether they are divisible by 5 or not. The numbers that are divisible by 5 are to be printed in a comma separated sequence.\n",
    "\n",
    "Example:\n",
    "\n",
    "0100,0011,1010,1001\n",
    "\n",
    "Then the output should be:\n",
    "\n",
    "1010"
   ]
  },
  {
   "cell_type": "code",
   "execution_count": 5,
   "metadata": {},
   "outputs": [
    {
     "name": "stdout",
     "output_type": "stream",
     "text": [
      "0100,0011,1010,1001\n",
      "1010\n"
     ]
    }
   ],
   "source": [
    "\n",
    "binary = list(input().split(\",\"));\n",
    "x=[]\n",
    "for i in range(len(binary)):\n",
    "              decimal = int(binary[i], 2);\n",
    "              if decimal%5==0:\n",
    "                  x.append(binary[i])\n",
    "for i in x:\n",
    "              print(i)\n",
    "              "
   ]
  },
  {
   "cell_type": "markdown",
   "metadata": {},
   "source": [
    "## P9\n",
    "\n",
    "### Question:\n",
    "\n",
    "Write a program, which will find all such numbers between 1000 and 3000 (both included) such that each digit of the number is an even number.\n",
    "The numbers obtained should be printed in a comma-separated sequence on a single line."
   ]
  },
  {
   "cell_type": "code",
   "execution_count": 10,
   "metadata": {},
   "outputs": [
    {
     "name": "stdout",
     "output_type": "stream",
     "text": [
      "2000\n",
      "2002\n",
      "2004\n",
      "2006\n",
      "2008\n",
      "2020\n",
      "2022\n",
      "2024\n",
      "2026\n",
      "2028\n",
      "2040\n",
      "2042\n",
      "2044\n",
      "2046\n",
      "2048\n",
      "2060\n",
      "2062\n",
      "2064\n",
      "2066\n",
      "2068\n",
      "2080\n",
      "2082\n",
      "2084\n",
      "2086\n",
      "2088\n",
      "2200\n",
      "2202\n",
      "2204\n",
      "2206\n",
      "2208\n",
      "2220\n",
      "2222\n",
      "2224\n",
      "2226\n",
      "2228\n",
      "2240\n",
      "2242\n",
      "2244\n",
      "2246\n",
      "2248\n",
      "2260\n",
      "2262\n",
      "2264\n",
      "2266\n",
      "2268\n",
      "2280\n",
      "2282\n",
      "2284\n",
      "2286\n",
      "2288\n",
      "2400\n",
      "2402\n",
      "2404\n",
      "2406\n",
      "2408\n",
      "2420\n",
      "2422\n",
      "2424\n",
      "2426\n",
      "2428\n",
      "2440\n",
      "2442\n",
      "2444\n",
      "2446\n",
      "2448\n",
      "2460\n",
      "2462\n",
      "2464\n",
      "2466\n",
      "2468\n",
      "2480\n",
      "2482\n",
      "2484\n",
      "2486\n",
      "2488\n",
      "2600\n",
      "2602\n",
      "2604\n",
      "2606\n",
      "2608\n",
      "2620\n",
      "2622\n",
      "2624\n",
      "2626\n",
      "2628\n",
      "2640\n",
      "2642\n",
      "2644\n",
      "2646\n",
      "2648\n",
      "2660\n",
      "2662\n",
      "2664\n",
      "2666\n",
      "2668\n",
      "2680\n",
      "2682\n",
      "2684\n",
      "2686\n",
      "2688\n",
      "2800\n",
      "2802\n",
      "2804\n",
      "2806\n",
      "2808\n",
      "2820\n",
      "2822\n",
      "2824\n",
      "2826\n",
      "2828\n",
      "2840\n",
      "2842\n",
      "2844\n",
      "2846\n",
      "2848\n",
      "2860\n",
      "2862\n",
      "2864\n",
      "2866\n",
      "2868\n",
      "2880\n",
      "2882\n",
      "2884\n",
      "2886\n",
      "2888\n"
     ]
    }
   ],
   "source": [
    "for i in range(1000,3000):\n",
    "    i=str(i)\n",
    "    if (int(i[0])%2==0 and int(i[1])%2==0 and int(i[2])%2==0 and int(i[3])%2==0):\n",
    "        print(i)"
   ]
  },
  {
   "cell_type": "markdown",
   "metadata": {},
   "source": [
    "## P10\n",
    "\n",
    "Question:\n",
    "Write a program that accepts a sentence and calculate the number of letters and digits.\n",
    "Suppose the following input is supplied to the program:\n",
    "\n",
    "hello world! 123\n",
    "\n",
    "Then, the output should be:\n",
    "\n",
    "LETTERS 10\n",
    "\n",
    "DIGITS 3"
   ]
  },
  {
   "cell_type": "code",
   "execution_count": null,
   "metadata": {},
   "outputs": [],
   "source": [
    "import string\n",
    "x=list(input())\n",
    "num=0\n",
    "for i in range(len(x)):\n",
    "    if x[i] in string.ascii_letters:\n",
    "        num+=1\n",
    "dict1=[]\n",
    "for i in range(9):\n",
    "    dict1.append(str(i))\n",
    "    #print(dict1)\n",
    "digit=0\n",
    "for i in range(len(x)):\n",
    "    if x[i] in dict1:\n",
    "        digit+=1\n",
    "print(\"LETTERS\",num)\n",
    "print(\"DIGITS\",digit)"
   ]
  },
  {
   "cell_type": "markdown",
   "metadata": {},
   "source": [
    "## P11\n",
    "\n",
    "Question:\n",
    "A website requires the users to input username and password to register. Write a program to check the validity of password input by users.\n",
    "\n",
    "Following are the criteria for checking the password:\n",
    "\n",
    "1. At least 1 letter between [a-z]\n",
    "\n",
    "2. At least 1 number between [0-9]\n",
    "\n",
    "1. At least 1 letter between [A-Z]\n",
    "\n",
    "3. At least 1 character from [$#@]\n",
    "\n",
    "4. Minimum length of transaction password: 6\n",
    "\n",
    "5. Maximum length of transaction password: 12\n",
    "\n",
    "Your program should accept a sequence of comma separated passwords and will check them according to the above criteria. Passwords that match the criteria are to be printed, each separated by a comma.\n",
    "Example\n",
    "\n",
    "If the following passwords are given as input to the program:\n",
    "\n",
    "ABd1234@1,a F1#,2w3E*,2We3345\n",
    "\n",
    "Then, the output of the program should be:\n",
    "\n",
    "ABd1234@1"
   ]
  },
  {
   "cell_type": "code",
   "execution_count": 24,
   "metadata": {},
   "outputs": [
    {
     "name": "stdout",
     "output_type": "stream",
     "text": [
      "Enter your password:Abd1234@1\n",
      "True\n"
     ]
    }
   ],
   "source": [
    "import re\n",
    "user=input(\"Enter your password:\")\n",
    "x=\"(?=.*[A-Za-z])(?=.*\\d)(?=.*[@#$])[a-zA-Z0-9@#$]{6,12}\"\n",
    "p=re.findall(x,user)\n",
    "if len(p)==0:\n",
    "    print(\"False\")\n",
    "elif p[0] in user:\n",
    "    print(\"True\")\n",
    "else:\n",
    "    print(\"False\")"
   ]
  },
  {
   "cell_type": "code",
   "execution_count": null,
   "metadata": {},
   "outputs": [],
   "source": []
  },
  {
   "cell_type": "code",
   "execution_count": null,
   "metadata": {},
   "outputs": [],
   "source": []
  },
  {
   "cell_type": "code",
   "execution_count": null,
   "metadata": {},
   "outputs": [],
   "source": []
  },
  {
   "cell_type": "code",
   "execution_count": null,
   "metadata": {},
   "outputs": [],
   "source": []
  }
 ],
 "metadata": {
  "kernelspec": {
   "display_name": "Python 3",
   "language": "python",
   "name": "python3"
  },
  "language_info": {
   "codemirror_mode": {
    "name": "ipython",
    "version": 3
   },
   "file_extension": ".py",
   "mimetype": "text/x-python",
   "name": "python",
   "nbconvert_exporter": "python",
   "pygments_lexer": "ipython3",
   "version": "3.6.5"
  }
 },
 "nbformat": 4,
 "nbformat_minor": 2
}
