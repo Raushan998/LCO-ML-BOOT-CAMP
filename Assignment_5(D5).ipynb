{
 "cells": [
  {
   "cell_type": "markdown",
   "metadata": {},
   "source": [
    "#### P1 \n",
    "Compute Diagonal Difference\n",
    "\n",
    "Sample Input\n",
    "\n",
    "3\n",
    "\n",
    "\n",
    "11 2 4\n",
    "\n",
    "4 5 6\n",
    "\n",
    "10 8 -12\n",
    "\n",
    "Sample Output\n",
    "\n",
    "15"
   ]
  },
  {
   "cell_type": "code",
   "execution_count": 14,
   "metadata": {},
   "outputs": [
    {
     "name": "stdout",
     "output_type": "stream",
     "text": [
      "15\n"
     ]
    }
   ],
   "source": [
    "def diagonal(matrix,n):\n",
    "    diff1=0\n",
    "    diff2=0\n",
    "    for i in range(n):\n",
    "        for j in range(n):\n",
    "            if i==j:\n",
    "                diff1+=matrix[i][j]\n",
    "                #print(matrix[i][j])\n",
    "            if i==n-j-1:\n",
    "                diff2+=matrix[i][j]\n",
    "                #print(matrix[i][j])\n",
    "    print(diff2-diff1)\n",
    "n=3\n",
    "matrix=[[11,2,4],[4,5,6],[10,8,-12]]\n",
    "\n",
    "diagonal(matrix,n)"
   ]
  },
  {
   "cell_type": "markdown",
   "metadata": {},
   "source": [
    "#### P2\n",
    "\n",
    "Find Pairs In An Array Which Have MAXIMUM SUM And MINIMUM SUM"
   ]
  },
  {
   "cell_type": "code",
   "execution_count": 9,
   "metadata": {},
   "outputs": [
    {
     "name": "stdout",
     "output_type": "stream",
     "text": [
      "[135, 678]\n",
      "[89, 112, 112, 135]\n"
     ]
    }
   ],
   "source": [
    "def sum(arr,n):\n",
    "    maxSum=-99999999\n",
    "    c=[]\n",
    "    for i in range(n):\n",
    "        for j in range(i+1,n):\n",
    "            maxSum=max(maxSum,a[i]+a[j])\n",
    "    for i in range(n):\n",
    "        for j in range(i+1,n):\n",
    "            if (a[i]+a[j]==maxSum):\n",
    "                c.append(a[i])\n",
    "                c.append(a[j])\n",
    "    print(c)\n",
    "def diff(arr,n):\n",
    "    mindiff=9999999\n",
    "    c=[]\n",
    "    for i in range(n):\n",
    "        for j in range(i+1,n):\n",
    "            maxdiff=min(mindiff,a[i]-a[j])\n",
    "    for i in range(n):\n",
    "        for j in range(i+1,n):\n",
    "            if (a[i]-a[j]==maxdiff):\n",
    "                c.append(a[i])\n",
    "                c.append(a[j])\n",
    "    print(c)\n",
    "\n",
    "    \n",
    "a=[24,36,78,94,56,89,112,135,678]\n",
    "sum(a,len(a))\n",
    "b=[24,67,89,34,56,98,23,76]\n",
    "diff(b,len(b))"
   ]
  },
  {
   "cell_type": "markdown",
   "metadata": {},
   "source": [
    "#### P3\n",
    "\n",
    "Find Pair In An Array Which Have MAXIMUM Difference"
   ]
  },
  {
   "cell_type": "code",
   "execution_count": 18,
   "metadata": {},
   "outputs": [
    {
     "name": "stdout",
     "output_type": "stream",
     "text": [
      "[678, 76]\n"
     ]
    }
   ],
   "source": [
    "def sum(arr,n):\n",
    "    maxSum=-99999999\n",
    "    c=[]\n",
    "    for i in range(n):\n",
    "        for j in range(i+1,n):\n",
    "            maxSum=max(maxSum,a[i]-a[j])\n",
    "    for i in range(n):\n",
    "        for j in range(i+1,n):\n",
    "            if (a[i]-a[j]==maxSum):\n",
    "                c.append(a[i])\n",
    "                c.append(a[j])\n",
    "    print(c)\n",
    "a=[678,552,334,123,76,105,89]\n",
    "sum(a,len(a))\n"
   ]
  },
  {
   "cell_type": "markdown",
   "metadata": {},
   "source": [
    "#### P4\n",
    "\n",
    "Sample Input\n",
    "\n",
    "-4 3 -9 0 4 1         \n",
    "\n",
    "Sample Output\n",
    "\n",
    "0.500000\n",
    "\n",
    "0.333333\n",
    "\n",
    "0.166667\n",
    "\n",
    "There are 3 positive numbers,2 negative numbers,1 and zero in the array.\n",
    "The proportions of occurrence are positive: 3/6=0.500000 , negative: 2/6=0.333333 and zeros: 1/6=0.166667.\n"
   ]
  },
  {
   "cell_type": "code",
   "execution_count": 12,
   "metadata": {},
   "outputs": [
    {
     "name": "stdout",
     "output_type": "stream",
     "text": [
      "-4 3 -9 0 4 1\n",
      "0.3333333333333333 0.5 0.16666666666666666\n"
     ]
    }
   ],
   "source": [
    "num=list(map(int,input().split()))\n",
    "c=0\n",
    "p=0\n",
    "q=0\n",
    "for i in range(len(num)):\n",
    "    if num[i]<0:\n",
    "        c+=1\n",
    "    if num[i]>0:\n",
    "        p+=1\n",
    "    if num[i]==0:\n",
    "        q+=1\n",
    "l=c/len(num)\n",
    "m=p/len(num)\n",
    "n=q/len(num)\n",
    "print(l,m,n)"
   ]
  },
  {
   "cell_type": "markdown",
   "metadata": {},
   "source": [
    "## P5\n",
    "\n",
    "### Implement Dice Number Generator"
   ]
  },
  {
   "cell_type": "code",
   "execution_count": 2,
   "metadata": {},
   "outputs": [
    {
     "name": "stdout",
     "output_type": "stream",
     "text": [
      "you got: 5\n",
      "print 1 to continue or 0 to break:\n",
      "1\n"
     ]
    }
   ],
   "source": [
    "import random\n",
    "p=0\n",
    "while(True):\n",
    "    #dice=int(input(\"Enter the number between range 1 to 20:\"))\n",
    "    dice1=random.randint(1,6)\n",
    "    print(\"you got:\",dice1)\n",
    "    p+=dice1\n",
    "    if p==50:\n",
    "        print(\"You won.\")\n",
    "        break\n",
    "    else:\n",
    "        print(\"print 1 to continue or 0 to break:\")\n",
    "        l=input()\n",
    "        if int(l)==1:\n",
    "            break\n",
    "        else:\n",
    "            pass\n",
    "            "
   ]
  },
  {
   "cell_type": "code",
   "execution_count": null,
   "metadata": {},
   "outputs": [],
   "source": []
  },
  {
   "cell_type": "code",
   "execution_count": null,
   "metadata": {},
   "outputs": [],
   "source": []
  },
  {
   "cell_type": "code",
   "execution_count": null,
   "metadata": {},
   "outputs": [],
   "source": []
  }
 ],
 "metadata": {
  "kernelspec": {
   "display_name": "Python 3",
   "language": "python",
   "name": "python3"
  },
  "language_info": {
   "codemirror_mode": {
    "name": "ipython",
    "version": 3
   },
   "file_extension": ".py",
   "mimetype": "text/x-python",
   "name": "python",
   "nbconvert_exporter": "python",
   "pygments_lexer": "ipython3",
   "version": "3.6.5"
  }
 },
 "nbformat": 4,
 "nbformat_minor": 2
}
