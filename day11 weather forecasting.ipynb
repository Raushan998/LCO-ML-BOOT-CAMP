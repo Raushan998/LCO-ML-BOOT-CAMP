{
 "cells": [
  {
   "cell_type": "code",
   "execution_count": 1,
   "metadata": {},
   "outputs": [],
   "source": [
    "import requests\n",
    "import json\n",
    "caps=['Hyderabad',\n",
    " 'Patna',\n",
    " 'Agartala',\n",
    " 'Kohima',\n",
    " 'Chandigarh',\n",
    " 'Ranchi',\n",
    " 'Thiruvananthapuram',\n",
    " 'Mumbai',\n",
    " 'Bhubaneswar',\n",
    " 'Chandigarh',\n",
    " 'Panaji',\n",
    " 'Gandhinagar',\n",
    " 'Dispur',\n",
    " 'Amaravati',\n",
    " 'Dehradun',\n",
    " 'Shimla',\n",
    " 'Bhopal',\n",
    " 'Jaipur',\n",
    " 'Aizawl',\n",
    " 'Srinagar',\n",
    " 'Kolkata',\n",
    " 'Raipur',\n",
    " 'Chennai',\n",
    " 'Lucknow',\n",
    " 'Gangtok',\n",
    " 'Itanagar',\n",
    " 'Bangalore',\n",
    " 'Shillong',\n",
    " 'Imphal']\n",
    "temp = []\n",
    "weather = []\n",
    "city = []\n",
    "for i in caps:\n",
    "    url=requests.get(\"http://api.openweathermap.org/data/2.5/weather?q=\"+i+\"&appid=8957b7a37386173a06dd271536a66059\")\n",
    "    data=json.loads(url.text)\n",
    "    weather.append(data['weather'][0]['main'])\n",
    "    temp.append(data['main']['temp'])\n",
    "    city.append(data[\"name\"])"
   ]
  },
  {
   "cell_type": "code",
   "execution_count": 2,
   "metadata": {},
   "outputs": [
    {
     "name": "stdout",
     "output_type": "stream",
     "text": [
      "Hyderabad  Clear  298.15\n",
      "Patna  Haze  289.15\n",
      "Agartala  Clouds  289.29\n",
      "Kohima  Clouds  280.265\n",
      "Chandigarh  Mist  286.15\n",
      "Ranchi  Haze  288.15\n",
      "Thiruvananthapuram  Haze  302.15\n",
      "Mumbai  Haze  297.15\n",
      "Bhubaneswar  Mist  296.15\n",
      "Chandigarh  Mist  286.15\n",
      "Panaji  Clear  293.79\n",
      "Gandhinagar  Smoke  293.15\n",
      "Dispur  Haze  292.15\n",
      "Amaravati  Haze  298.15\n",
      "Dehradun  Clouds  279.965\n",
      "Shimla  Mist  286.15\n",
      "Bhopal  Clear  290.15\n",
      "Jaipur  Haze  291.15\n",
      "Aizawl  Rain  285.89\n",
      "Srinagar  Clouds  268.015\n",
      "Kolkata  Mist  291.15\n",
      "Raipur  Haze  294.15\n",
      "Chennai  Mist  302.15\n",
      "Lucknow  Mist  288.15\n",
      "Gangtok  Clear  260.715\n",
      "Itanagar  Rain  284.69\n",
      "Bangalore  Clouds  297.3\n",
      "Shillong  Haze  292.15\n",
      "Imphal  Clear  283.84\n"
     ]
    }
   ],
   "source": [
    "for i in range(len(weather)):\n",
    "    print(city[i],end=\"  \")\n",
    "    print(weather[i],end=\"  \")\n",
    "    print(temp[i])"
   ]
  },
  {
   "cell_type": "code",
   "execution_count": 3,
   "metadata": {},
   "outputs": [
    {
     "data": {
      "text/plain": [
       "str"
      ]
     },
     "execution_count": 3,
     "metadata": {},
     "output_type": "execute_result"
    }
   ],
   "source": [
    "type(url.content.decode())"
   ]
  },
  {
   "cell_type": "code",
   "execution_count": 4,
   "metadata": {},
   "outputs": [],
   "source": [
    "import json"
   ]
  },
  {
   "cell_type": "code",
   "execution_count": 5,
   "metadata": {},
   "outputs": [],
   "source": [
    "data = json.loads(url.text)"
   ]
  },
  {
   "cell_type": "code",
   "execution_count": 6,
   "metadata": {},
   "outputs": [
    {
     "data": {
      "text/plain": [
       "dict"
      ]
     },
     "execution_count": 6,
     "metadata": {},
     "output_type": "execute_result"
    }
   ],
   "source": [
    "type(data)"
   ]
  },
  {
   "cell_type": "code",
   "execution_count": 7,
   "metadata": {},
   "outputs": [
    {
     "data": {
      "text/plain": [
       "'Clear'"
      ]
     },
     "execution_count": 7,
     "metadata": {},
     "output_type": "execute_result"
    }
   ],
   "source": [
    "data['weather'][0]['main']"
   ]
  },
  {
   "cell_type": "code",
   "execution_count": 8,
   "metadata": {},
   "outputs": [
    {
     "data": {
      "text/plain": [
       "283.84"
      ]
     },
     "execution_count": 8,
     "metadata": {},
     "output_type": "execute_result"
    }
   ],
   "source": [
    "data['main']['temp']"
   ]
  },
  {
   "cell_type": "code",
   "execution_count": 9,
   "metadata": {},
   "outputs": [
    {
     "data": {
      "text/plain": [
       "'Imphal'"
      ]
     },
     "execution_count": 9,
     "metadata": {},
     "output_type": "execute_result"
    }
   ],
   "source": [
    "data['name']"
   ]
  },
  {
   "cell_type": "code",
   "execution_count": 10,
   "metadata": {},
   "outputs": [
    {
     "data": {
      "text/plain": [
       "<Figure size 1000x1000 with 1 Axes>"
      ]
     },
     "metadata": {},
     "output_type": "display_data"
    }
   ],
   "source": [
    "import matplotlib.pyplot as plt\n",
    "plt.figure(figsize=(10,10))\n",
    "plt.plot(temp,city,color='green',linestyle='dashed', linewidth=3,marker='o',markerfacecolor=\"blue\",markersize=10)\n",
    "plt.xlabel(\"Tempeartue in kelvin(k)\")\n",
    "plt.ylabel(\"State capital of india\")\n",
    "plt.title=(\"Temperature variation by state capital\")\n",
    "plt.show()"
   ]
  },
  {
   "cell_type": "code",
   "execution_count": 11,
   "metadata": {},
   "outputs": [
    {
     "data": {
      "image/png": "[encoded data removed]",
      "text/plain": [
       "<Figure size 576x864 with 1 Axes>"
      ]
     },
     "metadata": {
      "needs_background": "light"
     },
     "output_type": "display_data"
    }
   ],
   "source": [
    "plt.figure(figsize=(8,12))\n",
    "plt.barh(y=city,width=temp)\n",
    "plt.ylabel('Name of the city')\n",
    "plt.xlabel('Temperatures')\n",
    "plt.title=('Name of city vs Temperatures')"
   ]
  },
  {
   "cell_type": "code",
   "execution_count": 12,
   "metadata": {},
   "outputs": [
    {
     "data": {
      "text/plain": [
       "Text(0, 0.5, 'Frequency')"
      ]
     },
     "execution_count": 12,
     "metadata": {},
     "output_type": "execute_result"
    },
    {
     "data": {
      "image/png": "[encoded data removed]",
      "text/plain": [
       "<Figure size 432x288 with 1 Axes>"
      ]
     },
     "metadata": {
      "needs_background": "light"
     },
     "output_type": "display_data"
    }
   ],
   "source": [
    "plt.hist(x=weather,color='green',histtype='bar')\n",
    "plt.title=('Weather vs Frequency')\n",
    "plt.xlabel('Weather')\n",
    "plt.ylabel('Frequency')"
   ]
  },
  {
   "cell_type": "code",
   "execution_count": 15,
   "metadata": {
    "scrolled": false
   },
   "outputs": [],
   "source": [
    "import pandas as pd\n",
    "data={'city':caps,'weather':weather,'city':city,'Temperature':temp}\n",
    "data=pd.DataFrame(data)"
   ]
  },
  {
   "cell_type": "code",
   "execution_count": 16,
   "metadata": {},
   "outputs": [
    {
     "data": {
      "text/html": [
       "<div>\n",
       "<style scoped>\n",
       "    .dataframe tbody tr th:only-of-type {\n",
       "        vertical-align: middle;\n",
       "    }\n",
       "\n",
       "    .dataframe tbody tr th {\n",
       "        vertical-align: top;\n",
       "    }\n",
       "\n",
       "    .dataframe thead th {\n",
       "        text-align: right;\n",
       "    }\n",
       "</style>\n",
       "<table border=\"1\" class=\"dataframe\">\n",
       "  <thead>\n",
       "    <tr style=\"text-align: right;\">\n",
       "      <th></th>\n",
       "      <th>city</th>\n",
       "      <th>weather</th>\n",
       "      <th>Temperature</th>\n",
       "    </tr>\n",
       "  </thead>\n",
       "  <tbody>\n",
       "    <tr>\n",
       "      <th>0</th>\n",
       "      <td>Hyderabad</td>\n",
       "      <td>Clear</td>\n",
       "      <td>298.150</td>\n",
       "    </tr>\n",
       "    <tr>\n",
       "      <th>1</th>\n",
       "      <td>Patna</td>\n",
       "      <td>Haze</td>\n",
       "      <td>289.150</td>\n",
       "    </tr>\n",
       "    <tr>\n",
       "      <th>2</th>\n",
       "      <td>Agartala</td>\n",
       "      <td>Clouds</td>\n",
       "      <td>289.290</td>\n",
       "    </tr>\n",
       "    <tr>\n",
       "      <th>3</th>\n",
       "      <td>Kohima</td>\n",
       "      <td>Clouds</td>\n",
       "      <td>280.265</td>\n",
       "    </tr>\n",
       "    <tr>\n",
       "      <th>4</th>\n",
       "      <td>Chandigarh</td>\n",
       "      <td>Mist</td>\n",
       "      <td>286.150</td>\n",
       "    </tr>\n",
       "  </tbody>\n",
       "</table>\n",
       "</div>"
      ],
      "text/plain": [
       "         city weather  Temperature\n",
       "0   Hyderabad   Clear      298.150\n",
       "1       Patna    Haze      289.150\n",
       "2    Agartala  Clouds      289.290\n",
       "3      Kohima  Clouds      280.265\n",
       "4  Chandigarh    Mist      286.150"
      ]
     },
     "execution_count": 16,
     "metadata": {},
     "output_type": "execute_result"
    }
   ],
   "source": [
    "data.head()"
   ]
  },
  {
   "cell_type": "code",
   "execution_count": null,
   "metadata": {},
   "outputs": [],
   "source": []
  }
 ],
 "metadata": {
  "kernelspec": {
   "display_name": "Python 3",
   "language": "python",
   "name": "python3"
  },
  "language_info": {
   "codemirror_mode": {
    "name": "ipython",
    "version": 3
   },
   "file_extension": ".py",
   "mimetype": "text/x-python",
   "name": "python",
   "nbconvert_exporter": "python",
   "pygments_lexer": "ipython3",
   "version": "3.6.7"
  }
 },
 "nbformat": 4,
 "nbformat_minor": 2
}
