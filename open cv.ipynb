{
 "cells": [
  {
   "cell_type": "code",
   "execution_count": 2,
   "metadata": {},
   "outputs": [],
   "source": [
    "import cv2"
   ]
  },
  {
   "cell_type": "code",
   "execution_count": 3,
   "metadata": {},
   "outputs": [],
   "source": [
    "img=cv2.imread(r\"C:\\Users\\User\\Desktop\\Machine learning\\messi.jpg\",1)# reads the image as color image as 1 and 0 as black and white image.\n",
    "cv2.imshow(\"legend\",img)#legend is the name of the image as parameter\n",
    "cv2.imwrite(r\"C:\\Users\\User\\Desktop\\messi.jpg\",img)\n",
    "#cv2.imwrite(r\"C:\\Users\\User\\Desktop\\messi.png\",img)\n",
    "cv2.waitKey(0)#wait untill user press key if it 2000 it will wait for 2000 milliseconds\n",
    "cv2.destroyAllWindows()#close the window base don waitforKey parameter"
   ]
  },
  {
   "cell_type": "markdown",
   "metadata": {},
   "source": [
    "What is computer Vision?\n",
    "How computer reads an image?\n",
    "> computer sees the image between 0-255 , for coloured images there will be 3 channels i.e;Red, Blue and Green and matrix associated with these channels and each elements of this matrix represents the intensity of brightness of that pixels.A computer interprete a coloured matrix as 3-D matrix."
   ]
  },
  {
   "cell_type": "code",
   "execution_count": 4,
   "metadata": {},
   "outputs": [],
   "source": [
    "# for size\n",
    "import cv2\n",
    "import matplotlib.pyplot as plt\n",
    "img=cv2.imread(r\"C:\\Users\\User\\Desktop\\Machine learning\\messi.jpg\",1)# reads the image as color image as 1 and 0 as black and white image.\n",
    "cv2.imshow(\"legend\",img[:,:,2])#legend is the name of the image as parameter\n",
    "cv2.waitKey(0)#wait untill user press key if it 2000 it will wait for 2000 milliseconds\n",
    "cv2.destroyAllWindows()#close the window base don waitforKey parameter\n",
    "#cv2.imshow(\"legend\",img[:,:,0])"
   ]
  },
  {
   "cell_type": "markdown",
   "metadata": {},
   "source": [
    "## #size of image=B x A x3"
   ]
  },
  {
   "cell_type": "markdown",
   "metadata": {},
   "source": [
    "open cv is a library of python designed to solve computer visisons problems.\n",
    "A the open cv array structures  are converted to and from numpy arrays."
   ]
  },
  {
   "cell_type": "code",
   "execution_count": 5,
   "metadata": {},
   "outputs": [
    {
     "name": "stdout",
     "output_type": "stream",
     "text": [
      "<class 'numpy.ndarray'>\n"
     ]
    }
   ],
   "source": [
    "print(type(img))"
   ]
  },
  {
   "cell_type": "code",
   "execution_count": 25,
   "metadata": {},
   "outputs": [],
   "source": [
    "img=cv2.imread(r\"C:\\Users\\User\\Desktop\\Machine learning\\messi.jpg\",1)# reads the image as color image as 1 and 0 as black and white image.\n",
    "resized=cv2.resize(img,(600,600))\n",
    "cv2.imshow(\"legend\",resized)#legend is the name of the image as parameter\n",
    "cv2.waitKey(2000)#wait untill user press key if it 2000 it will wait for 2000 milliseconds\n",
    "cv2.destroyAllWindows()#close the window base don waitforKey parameter\n"
   ]
  },
  {
   "cell_type": "code",
   "execution_count": 26,
   "metadata": {},
   "outputs": [],
   "source": [
    "#resizing the image in symmetrical manner\n",
    "#ne wimage will be half the old image\n",
    "import cv2\n",
    "img=cv2.imread(r\"C:\\Users\\User\\Desktop\\Machine learning\\messi.jpg\",1)\n",
    "resized=cv2.resize(img,(int(img.shape[1]/2),int(img.shape[0]/2)))#converting the float value into integer value\n",
    "cv2.imshow(\"legend\",resized)\n",
    "cv2.waitKey(0)\n",
    "cv2.destroyAllWindows()\n"
   ]
  },
  {
   "cell_type": "code",
   "execution_count": 27,
   "metadata": {},
   "outputs": [],
   "source": [
    "#new image will be twice the old image\n",
    "img=cv2.imread(r\"C:\\Users\\User\\Desktop\\Machine learning\\messi.jpg\",1)\n",
    "resized=cv2.resize(img,(int(img.shape[1]*2),int(img.shape[0]*2)))#converting the float value into integer value\n",
    "cv2.imshow(\"legend\",resized)\n",
    "cv2.waitKey(0)\n",
    "cv2.destroyAllWindows()"
   ]
  },
  {
   "cell_type": "markdown",
   "metadata": {},
   "source": [
    "for face detection we need a image and after that we have a cascade classifier ,it contains the features of face.The open cv will be read the image and feature the file i.e; convert into numpy array and search for the row and column values of the face numpy ndarray (The face rectangular coordinates)and display the image with rectangular box."
   ]
  },
  {
   "cell_type": "code",
   "execution_count": 28,
   "metadata": {},
   "outputs": [],
   "source": [
    "import cv2\n",
    "face_cascade=cv2.CascadeClassifier(\"haarcascade_frontalface_default.xml\")\n",
    "img=cv2.imread(\"messi.jpg\")\n",
    "gray_img=cv2.cvtColor(img,cv2.COLOR_BGR2GRAY)\n",
    "faces=face_cascade.detectMultiScale(gray_img,scaleFactor=1.06,minNeighbors=6)\n",
    "for x,y,w,h in faces:\n",
    "    img=cv2.rectangle(img,(x,y),(x+w,y+h),(0,255,0),3)\n",
    "cv2.imshow(\"Gray\",img)\n",
    "cv2.waitKey(0)\n",
    "cv2.destroyAllWindows()"
   ]
  },
  {
   "cell_type": "code",
   "execution_count": 29,
   "metadata": {},
   "outputs": [],
   "source": [
    "import cv2,time\n",
    "video=cv2.VideoCapture(0)\n",
    "check,frame=video.read()# check is a bool data type,returns true if python is able to read the video capture object.\n",
    "#print(check)\n",
    "#print(frame)\n",
    "time.sleep(10)\n",
    "cv2.imshow(\"capture\",frame)\n",
    "cv2.waitKey(0)\n",
    "video.release()\n",
    "cv2.destroyAllWindows()"
   ]
  },
  {
   "cell_type": "code",
   "execution_count": 30,
   "metadata": {},
   "outputs": [
    {
     "name": "stdout",
     "output_type": "stream",
     "text": [
      "133\n"
     ]
    }
   ],
   "source": [
    "#inside while we will iterate through the frames and display the window \n",
    "import cv2,time\n",
    "video=cv2.VideoCapture(0)#video capture object inside this number tells to built in camera and if we have two camera we can put 2 and if we have a video file the we can give path to that video file\n",
    "a=1\n",
    "while True:\n",
    "    a=a+1\n",
    "    check,frame=video.read()#frame is the numpy array ,it represents the first image that video captures\n",
    "   # print(frame)\n",
    "    gray=cv2.cvtColor(frame,cv2.COLOR_BGR2GRAY)\n",
    "    cv2.imshow(\"capture\",gray)\n",
    "    key=cv2.waitKey(1)#the wait key will genearate a new frame after every milli seconds or after every milli sceonds frame will be changed\n",
    "    if key==ord('q'):# onc eq will be pressed window will be destroyed\n",
    "        break\n",
    "print(a)\n",
    "video.release()\n",
    "cv2.destroyAllWindows()"
   ]
  },
  {
   "cell_type": "markdown",
   "metadata": {},
   "source": [
    "Motion detector:\n",
    "\n",
    "This will detect any motion infront of it and it will return a graph whichcontains how long long the object like human are infront of camera. "
   ]
  },
  {
   "cell_type": "code",
   "execution_count": 31,
   "metadata": {},
   "outputs": [],
   "source": [
    "from PIL import Image \n",
    "  \n",
    "def main(): \n",
    "    try: \n",
    "        #Relative Path \n",
    "        img = Image.open(\"messi.jpg\")  \n",
    "          \n",
    "        #Angle given \n",
    "        img = img.rotate(70)  \n",
    "          \n",
    "         #Saved in the same relative location \n",
    "        img.show(\"rotated_picture.jpg\") \n",
    "    except IOError: \n",
    "        pass\n",
    "  \n",
    "if __name__ == \"__main__\": \n",
    "    main()"
   ]
  },
  {
   "cell_type": "code",
   "execution_count": 32,
   "metadata": {},
   "outputs": [],
   "source": [
    " from PIL import Image \n",
    "import cv2\n",
    "  \n",
    "def main(): \n",
    "    try: \n",
    "        #Relative Path \n",
    "        img = Image.open(\"messi.jpg\")  \n",
    "          \n",
    "        #transposing image  \n",
    "        transposed_img = img.transpose(Image.FLIP_LEFT_RIGHT) \n",
    "          \n",
    "        #Save transposed image \n",
    "        transposed_img.show(\"transposed.jpg\") \n",
    "        cv2.waitKey(0)\n",
    "        cv2.destroyAllWindows()\n",
    "    except : \n",
    "        pass\n",
    "  \n",
    "if __name__ == \"__main__\": \n",
    "    main() "
   ]
  },
  {
   "cell_type": "code",
   "execution_count": 33,
   "metadata": {},
   "outputs": [],
   "source": [
    "import cv2\n",
    "img=cv2.imread(r\"C:\\Users\\User\\Desktop\\Machine learning\\messi.jpg\",1)# reads the image as color image as 1 and 0 as black and white image.\n",
    "cv2.imshow(\"legend\",img)#legend is the name of the image as parameter\n",
    "#cv2.imwrite(r\"C:\\Users\\User\\Desktop\\messi.jpg\",0)\n",
    "#cv2.imwrite(r\"C:\\Users\\User\\Desktop\\messi.png\",1)\n",
    "cv2.waitKey(0)#wait untill user press key if it 2000 it will wait for 2000 milliseconds\n",
    "gray_image=cv2.cvtColor(img,cv2.COLOR_BGR2GRAY)\n",
    "cv2.imshow(\"grayscale\",gray_image)\n",
    "cv2.waitKey(0)\n",
    "ret,bw=cv2.threshold(img,127,255,cv2.THRESH_BINARY)#through thresholding we will try to provide the value the value through which we can put below the particular value we assign the value 0 and above it will be white. \n",
    "cv2.imshow(\"Binary\",bw)\n",
    "cv2.waitKey(0)\n",
    "cv2.destroyAllWindows()#close the window base don waitforKey parameter"
   ]
  },
  {
   "cell_type": "markdown",
   "metadata": {},
   "source": [
    "#Binary image or Black and white image is that type of image in which each value of pixel is either 1 or 0 1 for white and 0 for black pixel. "
   ]
  },
  {
   "cell_type": "code",
   "execution_count": 7,
   "metadata": {},
   "outputs": [],
   "source": [
    "import cv2\n",
    "img=cv2.imread(r\"C:\\Users\\User\\Desktop\\Machine learning\\messi.jpg\")\n",
    "img_HSV=cv2.cvtColor(img,cv2.COLOR_BGR2HSV)\n",
    "cv2.imshow(\"hsvimage\",img_HSV)\n",
    "cv2.waitKey(0)\n",
    "cv2.imshow(\"Hue channel\",img_HSV[:,:,0])\n",
    "cv2.waitKey(0)\n",
    "cv2.imshow(\"saturation\",img_HSV[:,:,1])\n",
    "cv2.waitKey(0)\n",
    "cv2.imshow(\"valuechannel\",img_HSV[:,:,2])\n",
    "cv2.waitKey(0)\n",
    "cv2.destroyAllWindows()"
   ]
  },
  {
   "cell_type": "code",
   "execution_count": 9,
   "metadata": {},
   "outputs": [],
   "source": [
    "#converting images into B,G,R Format\n",
    "import matplotlib.pyplot as plt\n",
    "import cv2\n",
    "import numpy as np\n",
    "img=cv2.imread(r\"C:\\Users\\User\\Desktop\\Machine learning\\messi.jpg\",1)\n",
    "cv2.imshow(\"legend\",img)\n",
    "cv2.waitKey(0)\n",
    "B,G,R=cv2.split(img)\n",
    "zeros=np.zeros((360,640),dtype=\"uint8\")\n",
    "cv2.imshow(\"Red\",cv2.merge([zeros,zeros,R]))\n",
    "cv2.waitKey(0)\n",
    "cv2.imshow(\"Red\",cv2.merge([zeros,G,zeros]))\n",
    "cv2.waitKey(0)\n",
    "cv2.imshow(\"Red\",cv2.merge([B,zeros,zeros]))\n",
    "cv2.waitKey(0)\n",
    "cv2.destroyAllWindows()"
   ]
  },
  {
   "cell_type": "code",
   "execution_count": 21,
   "metadata": {},
   "outputs": [
    {
     "data": {
      "text/plain": [
       "(360, 640)"
      ]
     },
     "execution_count": 21,
     "metadata": {},
     "output_type": "execute_result"
    }
   ],
   "source": [
    "zeros.shape\n"
   ]
  },
  {
   "cell_type": "code",
   "execution_count": 7,
   "metadata": {},
   "outputs": [],
   "source": [
    "import cv2\n",
    "import numpy as np\n",
    "img=cv2.imread(r\"C:\\Users\\User\\Desktop\\Machine learning\\messi.jpg\",1)\n",
    "height,width=img.shape[:2]\n",
    "quater_height,quater_width=height/4,width/4\n",
    "#T=|1,0,TX|\n",
    "#  |0,1,TY|,where Tx represents pixels of x-axis and TY represents the pixels of Y-axis\n",
    "T=np.float32([[1,0,quater_width],\n",
    "             [0,1,quater_height]])\n",
    "img_translation=cv2.warpAffine(img,T,(width,height))# image inside warAffine will be height and width of image will be linear and parallel and accurate form while warnonAffine image will be tilt and nonlinear.\n",
    "cv2.imshow(\"legend\",img)\n",
    "cv2.waitKey(0)\n",
    "cv2.imshow(\"translation\",img_translation)\n",
    "cv2.waitKey(0)\n",
    "cv2.destroyAllWindows()"
   ]
  },
  {
   "cell_type": "code",
   "execution_count": 15,
   "metadata": {},
   "outputs": [],
   "source": [
    "import cv2\n",
    "img=cv2.imread(r\"C:\\Users\\User\\Desktop\\Machine learning\\messi.jpg\",1)\n",
    "height,width=img.shape[:2]\n",
    "rotation_image=cv2.getRotationMatrix2D((height/2,width/2),70,1)#70 is degree of angle and 0.5 is scale factor\n",
    "rotated_image=cv2.warpAffine(img,rotation_image,(width,height))\n",
    "cv2.imshow(\"legend\",img)\n",
    "cv2.waitKey(0)\n",
    "cv2.imshow(\"rotation\",rotation_image)\n",
    "cv2.waitKey(0)\n",
    "cv2.destroyAllWindows()"
   ]
  },
  {
   "cell_type": "code",
   "execution_count": 18,
   "metadata": {},
   "outputs": [],
   "source": [
    "import cv2\n",
    "import numpy as np\n",
    "img=cv2.imread(r\"C:\\Users\\User\\Desktop\\Machine learning\\messi.jpg\",1)\n",
    "rotation_image=cv2.transpose(img)#this will covert the image of horizontal pixel elements into vertical pixel elements as in matrix\n",
    "cv2.imshow(\"legend\",img)\n",
    "cv2.waitKey(0)\n",
    "cv2.imshow(\"rotation\",rotation_image)\n",
    "cv2.waitKey(0)\n",
    "cv2.destroyAllWindows()"
   ]
  },
  {
   "cell_type": "code",
   "execution_count": 1,
   "metadata": {},
   "outputs": [],
   "source": [
    "#image cropping\n",
    "import cv2\n",
    "import numpy as np\n",
    "img=cv2.imread(r\"C:\\Users\\User\\Desktop\\Machine learning\\messi.jpg\",1)\n",
    "height,width=img.shape[:2]\n",
    "start_row,start_col=int(height*0.10),int(width*0.10)#starting pixel coordinates (topleft,of cropping rectangles)\n",
    "end_row,end_col=int(height*0.86),int(width*0.86)#ending pixel coordinates (bottom right),this can be changed\n",
    "cropped=img[start_row:end_row,start_col:end_col]\n",
    "cv2.imshow(\"legend\",img)\n",
    "cv2.waitKey(0)\n",
    "cv2.imshow(\"cropped\",cropped)\n",
    "cv2.imwrite(r\"C:\\Users\\User\\Desktop\\messi1.jpg\",cropped)\n",
    "cv2.waitKey(0)\n",
    "cv2.destroyAllWindows()"
   ]
  },
  {
   "cell_type": "code",
   "execution_count": 26,
   "metadata": {},
   "outputs": [],
   "source": [
    "#image arithmetic\n",
    "import cv2\n",
    "import numpy as np\n",
    "img=cv2.imread(r\"C:\\Users\\User\\Desktop\\Machine learning\\messi.jpg\",1)\n",
    "cv2.imshow(\"legend\",img)\n",
    "cv2.waitKey(0)\n",
    "M=np.ones(img.shape,dtype=\"uint8\")*150# if we add this amtrix with other matrix or substract or multiply with other matrix then we see there is no  such changes occur if we multiply this matrix with 150 then there will be changes in matrix. \n",
    "added=cv2.add(img,M)#in this we passes two arguments 1st is from which image we are adding and  2nd is what we are adding.\n",
    "cv2.imshow(\"added\",added)#this will be bright because all pixel value will be increased to 150.\n",
    "cv2.waitKey(0)\n",
    "substract=cv2.subtract(img,M)#this is dark because all pixels value will be decreased to 150\n",
    "cv2.imshow(\"substract\",substract)\n",
    "cv2.waitKey(0)\n",
    "multiply=cv2.multiply(img,M)\n",
    "cv2.imshow(\"multiply\",multiply)\n",
    "cv2.waitKey(0)\n",
    "cv2.destroyAllWindows()"
   ]
  },
  {
   "cell_type": "code",
   "execution_count": 27,
   "metadata": {},
   "outputs": [],
   "source": [
    "import matplotlib.pyplot as plt\n",
    "import cv2\n",
    "import numpy as np\n",
    "img=cv2.imread(\"./messi.jpg\")\n",
    "img_HSV=cv2.cvtColor(img,cv2.COLOR_BGR2HSV)\n",
    "black = np.zeros((360*2,640*3,3),np.uint8)\n",
    "imgCopy = np.copy(img)\n",
    "imgCopy[:,:,0] = 0\n",
    "imgCopy[:,:,1] = 0\n",
    "black[:360,:640] = imgCopy[:360,:640]\n",
    "# imgCopy[:,:,1] = 0\n",
    "# imgCopy[:,:,2] = 0\n",
    "# black[:360,640:1280] = imgCopy[:360,:640]\n",
    "blue = np.copy(img)\n",
    "blue[:,:,2] = 0\n",
    "blue[:,:,1] = 0\n",
    "black[:360,640:1280] = blue[:360,:640]\n",
    "#cv2.imshow(\"Image\",black)\n",
    "green=np.copy(img)\n",
    "green[:,:,2]=0\n",
    "green[:,:,0]=0\n",
    "black[:360,1280:1920]=green[:360,:640]\n",
    "value=np.copy(img_HSV)\n",
    "value1=np.copy(img_HSV)\n",
    "value1[:,:,1]=0\n",
    "value1[:,:,0]=0\n",
    "black[360:720,:640]=value[:360,:640]\n",
    "#hue=np.copy(img_HSV)\n",
    "hue1=np.copy(img_HSV)\n",
    "hue1[:,:,0]=0\n",
    "hue1[:,:,2]=0\n",
    "black[360:720,640:1280]=hue1[:360,:720]\n",
    "sat=np.copy(img_HSV)\n",
    "sat[:,:,1]=0\n",
    "sat[:,:,2]=0\n",
    "black[360:720,1280:1920]=sat[:360,:720]\n",
    "cv2.imshow(\"Image\",black)\n",
    "cv2.waitKey(0)\n",
    "cv2.destroyAllWindows()"
   ]
  },
  {
   "cell_type": "code",
   "execution_count": 24,
   "metadata": {},
   "outputs": [],
   "source": [
    "import cv2\n",
    "import numpy as np\n",
    "img=cv2.imread(\"./messi.jpg\")\n",
    "kernel_3X3=np.ones((8,8),np.float32)/64# we cannot pass even values over here\n",
    "blurred=cv2.filter2D(img,-1,kernel_3X3)\n",
    "cv2.imshow(\"blurred\",blurred)\n",
    "cv2.waitKey(0)\n",
    "cv2.destroyAllWindows()"
   ]
  },
  {
   "cell_type": "code",
   "execution_count": 29,
   "metadata": {},
   "outputs": [],
   "source": [
    "import cv2\n",
    "import numpy as np\n",
    "img=cv2.imread(\"./messi.jpg\")\n",
    "cv2.imshow(\"legend\",img)\n",
    "cv2.waitKey(0)\n",
    "blur=cv2.blur(img,(8,8))#In this (3,3) is tuple we are using kernel,this will conver central elements into pixel\n",
    "cv2.imshow(\"Blur image\",blur)\n",
    "cv2.waitKey(0)\n",
    "median=cv2.medianBlur(img,5)\n",
    "cv2.imshow(\"medianblur\",median)\n",
    "cv2.waitKey(0)\n",
    "gaussian=cv2.GaussianBlur(img,(7,7),0)\n",
    "cv2.imshow(\"GaussianBlur\",gaussian)\n",
    "cv2.waitKey(0)\n",
    "bilateral=cv2.bilateralFilter(img,7,15,15)#9 ,75 and 75 are sigma color value and sigma space value affects cordinates space and color space \n",
    "cv2.imshow(\"bilateral\",bilateral)\n",
    "cv2.waitKey(0)\n",
    "cv2.destroyAllWindows()"
   ]
  },
  {
   "cell_type": "code",
   "execution_count": 30,
   "metadata": {},
   "outputs": [],
   "source": [
    "import cv2\n",
    "import numpy as np\n",
    "import time\n",
    "img=cv2.imread(\"./idiots.jpg\",0)\n",
    "cv2.imshow(\"legend\",img)\n",
    "cv2.waitKey(0)\n",
    "height,width=img.shape\n",
    "sobel_x=cv2.Sobel(img,cv2.CV_64F,1,0,ksize=5)#In this first we have to convert the images into gray scale image and after taht we have defined the dattype that what type of datatype will be there after that we have mentioned the width  pixel in x-axes and after we have taken height pixel and thet height pixel and last one is size of kernel\n",
    "sobel_y=cv2.Sobel(img,cv2.CV_64F,0,1,ksize=5)\n",
    "cv2.imshow(\"sobel_x\",sobel_x)\n",
    "cv2.waitKey(0)\n",
    "cv2.imshow(\"sobel_y\",sobel_y)\n",
    "sobel_or=cv2.bitwise_or(sobel_x,sobel_y)\n",
    "cv2.waitKey(0)\n",
    "cv2.imshow(\"sobel_or\",sobel_or)\n",
    "cv2.waitKey(0)\n",
    "sobel_and=cv2.bitwise_and(sobel_x,sobel_y)\n",
    "cv2.imshow(\"sobel_and\",sobel_and)\n",
    "cv2.waitKey(0)\n",
    "#canny edge detection\n",
    "canny=cv2.Canny(img,20,170)#This demand two thresholds from us i.e; 20 and 170 this is like lower and upper value \n",
    "cv2.imshow(\"canny\",canny)\n",
    "cv2.waitKey(0)\n",
    "cv2.destroyAllWindows()"
   ]
  },
  {
   "cell_type": "code",
   "execution_count": 4,
   "metadata": {},
   "outputs": [
    {
     "name": "stdout",
     "output_type": "stream",
     "text": [
      "Enter the Path of File:./messi.jpg\n",
      "1 . Gray scale image\n",
      "2 . Binary image\n",
      "3 . Blue\n",
      "4 . smoothing the image\n",
      "5 . Blurring the image\n",
      "6 . Detecting the edge of image\n",
      "7 . saturation\n",
      "8 . Green\n",
      "9 . Red\n",
      "10 . Value\n",
      "11 . Hue\n",
      "12 . cropping the image\n",
      "13 . Doubling the image\n",
      "14 . Transposing the image\n",
      "15 . Face Detection\n",
      "Enter the number which type of image you want:1\n",
      "Do you want to save?y/nn\n",
      "its ok\n",
      "Do you break?y/nn\n",
      "its ok\n",
      "Enter the number which type of image you want:2\n",
      "Do you want to save?y/nn\n",
      "its ok\n",
      "Do you break?y/nn\n",
      "its ok\n",
      "Enter the number which type of image you want:3\n",
      "Do you want to save?y/nn\n",
      "its ok\n",
      "Do you break?y/nn\n",
      "its ok\n",
      "Enter the number which type of image you want:4\n",
      "Do you want to save?y/nn\n",
      "its ok\n",
      "Do you break?y/nn\n",
      "its ok\n",
      "Enter the number which type of image you want:5\n",
      "Do you want to save?y/nn\n",
      "its ok\n",
      "Do you break?y/ny\n"
     ]
    }
   ],
   "source": [
    "import cv2\n",
    "import numpy as np\n",
    "import time\n",
    "path=(input(\"Enter the Path of File:\"))\n",
    "img=cv2.imread(path,1)\n",
    "dict_1={1:'Gray scale image',2:'Binary image',3:'Blue',4:'smoothing the image',5:'Blurring the image',6:'Detecting the edge of image',7:'saturation',8:'Green',9:'Red',10:'Value',11:'Hue',12:'cropping the image',13:'Doubling the image',14:'Transposing the image',15:'Face Detection'}\n",
    "for i in range(1,len(dict_1)+1):\n",
    "    print(i,'.',dict_1.get(i))\n",
    "while(True):\n",
    "    num=input('Enter the number which type of image you want:')\n",
    "    cv2.imshow('image',img)\n",
    "    if num=='1':\n",
    "        img1=cv2.imread(path,0)\n",
    "        cv2.imshow('image',img1)\n",
    "    elif num=='2':\n",
    "        ret,bw=cv2.threshold(img,127,255,cv2.THRESH_BINARY)#through thresholding we will try to provide the value the value through which we can put below the particular value we assign the value 0 and above it will be white. \n",
    "        cv2.imshow(\"Binary\",bw)\n",
    "        img1=bw\n",
    "    elif num=='3':\n",
    "        B,G,R=cv2.split(img)\n",
    "        zeros=np.zeros((360,640),dtype=\"uint8\")\n",
    "        cv2.imshow(\"Blue\",cv2.merge([B,zeros,zeros]))\n",
    "        img1=cv2.merge([B,zeros,zeros])\n",
    "    elif num=='4':\n",
    "        bilateral=cv2.bilateralFilter(img,7,20,20)#9 ,75 and 75 are sigma color value and sigma space value affects cordinates space and color space \n",
    "        cv2.imshow(\"bilateral\",bilateral)\n",
    "        img1=bilateral\n",
    "    elif num=='5':\n",
    "        gaussian=cv2.GaussianBlur(img,(7,7),0)\n",
    "        cv2.imshow(\"GaussianBlur\",gaussian)\n",
    "        img1=gaussian\n",
    "    elif num=='6':\n",
    "        canny=cv2.Canny(img,20,170)#This demand two thresholds from us i.e; 20 and 170 this is like lower and upper value \n",
    "        cv2.imshow(\"canny\",canny)\n",
    "        img1=canny\n",
    "    elif num=='7':\n",
    "        img_HSV=cv2.cvtColor(img,cv2.COLOR_BGR2HSV)\n",
    "        cv2.imshow(\"saturation\",img_HSV[:,:,1])\n",
    "        img1=img_HSV[:,:,1]\n",
    "    elif num=='8':\n",
    "        B,G,R=cv2.split(img)\n",
    "        zeros=np.zeros((360,640),dtype=\"uint8\")\n",
    "        cv2.imshow(\"Green\",cv2.merge([zeros,G,zeros]))\n",
    "        img1=cv2.merge([zeros,G,zeros])\n",
    "    elif num=='9':\n",
    "        B,G,R=cv2.split(img)\n",
    "        zeros=np.zeros((360,640),dtype=\"uint8\")\n",
    "        cv2.imshow(\"Red\",cv2.merge([zeros,zeros,R]))\n",
    "        img1=cv2.merge([zeros,zeros,R])\n",
    "    elif num=='10':\n",
    "        img_HSV=cv2.cvtColor(img,cv2.COLOR_BGR2HSV)\n",
    "        cv2.imshow(\"valuechannel\",img_HSV[:,:,2])\n",
    "        img1=img_HSV[:,:,2]\n",
    "    elif num=='11':\n",
    "        img_HSV=cv2.cvtColor(img,cv2.COLOR_BGR2HSV)\n",
    "        cv2.imshow(\"Hue\",img_HSV[:,:,0])\n",
    "        img1=img_HSV[:,:,0]\n",
    "    elif num=='12':\n",
    "        height,width=img.shape[:2]\n",
    "        start_row,start_col=int(height*0.10),int(width*0.10)#starting pixel coordinates (topleft,of cropping rectangles)\n",
    "        end_row,end_col=int(height*0.86),int(width*0.86)#ending pixel coordinates (bottom right),this can be changed\n",
    "        cropped=img[start_row:end_row,start_col:end_col]\n",
    "        cv2.imshow('cropped',cropped)\n",
    "        img1=cropped\n",
    "    elif num=='13':\n",
    "        resized=cv2.resize(img,(int(img.shape[1]*1.5),int(img.shape[0]*1.5)))#converting the float value into integer value\n",
    "        cv2.imshow('resize',resized)\n",
    "        img1=resized\n",
    "    elif num=='14':\n",
    "        rotation_image=cv2.transpose(img)#this will covert the image of horizontal pixel elements into vertical pixel elements as in matrix\n",
    "        cv2.imshow(\"legend\",rotation_image)\n",
    "        img1=rotation_image\n",
    "    elif num=='15':\n",
    "        face_cascade=cv2.CascadeClassifier(\"haarcascade_frontalface_default.xml\")\n",
    "        gray_img=cv2.cvtColor(img,cv2.COLOR_BGR2GRAY)\n",
    "        faces=face_cascade.detectMultiScale(gray_img,scaleFactor=1.06,minNeighbors=6)\n",
    "        for x,y,w,h in faces:\n",
    "            img1=cv2.rectangle(img,(x,y),(x+w,y+h),(0,0,255),3)\n",
    "            cv2.imshow(\"Gray\",img1)\n",
    "    else:\n",
    "        print('invalid input')\n",
    "    cv2.waitKey(0)\n",
    "    cv2.destroyAllWindows()\n",
    "    save=input('Do you want to save?y/n')\n",
    "    if save=='y':\n",
    "        file=input('Enter the image name to be saved')\n",
    "        cv2.imwrite(file+'.jpg',img1)\n",
    "    elif save=='n':\n",
    "        print('its ok')\n",
    "    else:\n",
    "        print('invalid input')\n",
    "    a=input('Do you break?y/n')\n",
    "    if a=='y':\n",
    "        break\n",
    "    elif a=='n':\n",
    "        print('its ok')\n",
    "    else:\n",
    "        print('invalid input')"
   ]
  },
  {
   "cell_type": "code",
   "execution_count": 9,
   "metadata": {},
   "outputs": [
    {
     "data": {
      "text/plain": [
       "(360, 640, 3)"
      ]
     },
     "execution_count": 9,
     "metadata": {},
     "output_type": "execute_result"
    }
   ],
   "source": [
    "img.shape"
   ]
  },
  {
   "cell_type": "code",
   "execution_count": 13,
   "metadata": {},
   "outputs": [
    {
     "data": {
      "text/plain": [
       "640"
      ]
     },
     "execution_count": 13,
     "metadata": {},
     "output_type": "execute_result"
    }
   ],
   "source": []
  },
  {
   "cell_type": "code",
   "execution_count": null,
   "metadata": {},
   "outputs": [],
   "source": []
  }
 ],
 "metadata": {
  "kernelspec": {
   "display_name": "Python 3",
   "language": "python",
   "name": "python3"
  },
  "language_info": {
   "codemirror_mode": {
    "name": "ipython",
    "version": 3
   },
   "file_extension": ".py",
   "mimetype": "text/x-python",
   "name": "python",
   "nbconvert_exporter": "python",
   "pygments_lexer": "ipython3",
   "version": "3.6.5"
  }
 },
 "nbformat": 4,
 "nbformat_minor": 2
}
