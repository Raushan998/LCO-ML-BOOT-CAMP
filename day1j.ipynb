{
 "cells": [
  {
   "cell_type": "code",
   "execution_count": null,
   "metadata": {},
   "outputs": [],
   "source": [
    "userid=input()\n",
    "password=input()\n",
    "x= input(userid)\n",
    "y=input(password)\n",
    "if userid==x and password==y:\n",
    "    print(\"you are login\")\n",
    "else:\n",
    "    print(\"please input valid password and userid.\")"
   ]
  },
  {
   "cell_type": "code",
   "execution_count": null,
   "metadata": {},
   "outputs": [],
   "source": []
  },
  {
   "cell_type": "code",
   "execution_count": 1,
   "metadata": {},
   "outputs": [
    {
     "name": "stdout",
     "output_type": "stream",
     "text": [
      "hello world!\n"
     ]
    }
   ],
   "source": [
    "print(\"hello world!\")"
   ]
  },
  {
   "cell_type": "code",
   "execution_count": null,
   "metadata": {},
   "outputs": [],
   "source": []
  },
  {
   "cell_type": "code",
   "execution_count": null,
   "metadata": {},
   "outputs": [],
   "source": []
  },
  {
   "cell_type": "code",
   "execution_count": null,
   "metadata": {},
   "outputs": [],
   "source": []
  },
  {
   "cell_type": "code",
   "execution_count": null,
   "metadata": {},
   "outputs": [],
   "source": []
  },
  {
   "cell_type": "code",
   "execution_count": 3,
   "metadata": {},
   "outputs": [
    {
     "ename": "SyntaxError",
     "evalue": "invalid syntax (<ipython-input-3-57b7faac0855>, line 5)",
     "output_type": "error",
     "traceback": [
      "\u001b[1;36m  File \u001b[1;32m\"<ipython-input-3-57b7faac0855>\"\u001b[1;36m, line \u001b[1;32m5\u001b[0m\n\u001b[1;33m    tup1=a(0:p//2)\u001b[0m\n\u001b[1;37m            ^\u001b[0m\n\u001b[1;31mSyntaxError\u001b[0m\u001b[1;31m:\u001b[0m invalid syntax\n"
     ]
    }
   ],
   "source": []
  },
  {
   "cell_type": "code",
   "execution_count": 5,
   "metadata": {},
   "outputs": [
    {
     "name": "stdout",
     "output_type": "stream",
     "text": [
      "(10, 4)\n",
      "(16, 18)\n"
     ]
    }
   ],
   "source": [
    "a=(10,4,16,18)\n",
    "p=len(a)\n",
    "tup1=()\n",
    "tup2=()\n",
    "tup1=a[0:p//2]\n",
    "tup2=a[p//2:p]\n",
    "print(tup1)\n",
    "print(tup2)"
   ]
  },
  {
   "cell_type": "code",
   "execution_count": 8,
   "metadata": {},
   "outputs": [
    {
     "ename": "SyntaxError",
     "evalue": "invalid syntax (<ipython-input-8-08f59ca6d760>, line 2)",
     "output_type": "error",
     "traceback": [
      "\u001b[1;36m  File \u001b[1;32m\"<ipython-input-8-08f59ca6d760>\"\u001b[1;36m, line \u001b[1;32m2\u001b[0m\n\u001b[1;33m    print(user)\u001b[0m\n\u001b[1;37m        ^\u001b[0m\n\u001b[1;31mSyntaxError\u001b[0m\u001b[1;31m:\u001b[0m invalid syntax\n"
     ]
    }
   ],
   "source": [
    "user=list(int,input(().split())\n",
    "print(user)\n",
    "    "
   ]
  },
  {
   "cell_type": "code",
   "execution_count": null,
   "metadata": {},
   "outputs": [],
   "source": []
  },
  {
   "cell_type": "code",
   "execution_count": 12,
   "metadata": {},
   "outputs": [
    {
     "name": "stdout",
     "output_type": "stream",
     "text": [
      "bootcamp python\n"
     ]
    }
   ],
   "source": [
    "x=\"python\"\n",
    "y=\"bootcamp\"\n",
    "x,y=y,x\n",
    "print(x,y)"
   ]
  },
  {
   "cell_type": "code",
   "execution_count": 13,
   "metadata": {},
   "outputs": [
    {
     "name": "stdout",
     "output_type": "stream",
     "text": [
      "10 64 84 10\n"
     ]
    }
   ],
   "source": [
    "x=10;y=64;z=84;k=10\n",
    "print(x,y,z,k)"
   ]
  },
  {
   "cell_type": "code",
   "execution_count": null,
   "metadata": {},
   "outputs": [],
   "source": []
  },
  {
   "cell_type": "code",
   "execution_count": 14,
   "metadata": {},
   "outputs": [],
   "source": [
    "T=(1,2,3,4)"
   ]
  },
  {
   "cell_type": "code",
   "execution_count": 15,
   "metadata": {},
   "outputs": [],
   "source": [
    "A,B,C,D=T"
   ]
  },
  {
   "cell_type": "code",
   "execution_count": 16,
   "metadata": {},
   "outputs": [
    {
     "data": {
      "text/plain": [
       "1"
      ]
     },
     "execution_count": 16,
     "metadata": {},
     "output_type": "execute_result"
    }
   ],
   "source": [
    "A"
   ]
  },
  {
   "cell_type": "code",
   "execution_count": 17,
   "metadata": {},
   "outputs": [
    {
     "data": {
      "text/plain": [
       "2"
      ]
     },
     "execution_count": 17,
     "metadata": {},
     "output_type": "execute_result"
    }
   ],
   "source": [
    "B"
   ]
  },
  {
   "cell_type": "code",
   "execution_count": 18,
   "metadata": {},
   "outputs": [
    {
     "name": "stdout",
     "output_type": "stream",
     "text": [
      "python\n"
     ]
    }
   ],
   "source": [
    "a=\"py\"\n",
    "b=\"thon\"\n",
    "c=a+b\n",
    "print(c)"
   ]
  },
  {
   "cell_type": "code",
   "execution_count": 23,
   "metadata": {},
   "outputs": [
    {
     "name": "stdout",
     "output_type": "stream",
     "text": [
      "('hi',) ('hello',)\n"
     ]
    }
   ],
   "source": [
    "\n",
    "    \n",
    "    "
   ]
  },
  {
   "cell_type": "code",
   "execution_count": null,
   "metadata": {},
   "outputs": [],
   "source": []
  },
  {
   "cell_type": "code",
   "execution_count": 26,
   "metadata": {},
   "outputs": [],
   "source": [
    "tup1=(\"12\",\"2\")\n",
    "tup2=(\"hi\",\"hello\")\n",
    "c,d=zip(tup1,tup2)\n",
    "    "
   ]
  },
  {
   "cell_type": "code",
   "execution_count": 27,
   "metadata": {},
   "outputs": [
    {
     "data": {
      "text/plain": [
       "('12', 'hi')"
      ]
     },
     "execution_count": 27,
     "metadata": {},
     "output_type": "execute_result"
    }
   ],
   "source": [
    "c"
   ]
  },
  {
   "cell_type": "code",
   "execution_count": 28,
   "metadata": {},
   "outputs": [
    {
     "data": {
      "text/plain": [
       "('2', 'hello')"
      ]
     },
     "execution_count": 28,
     "metadata": {},
     "output_type": "execute_result"
    }
   ],
   "source": [
    "d"
   ]
  },
  {
   "cell_type": "code",
   "execution_count": 30,
   "metadata": {},
   "outputs": [
    {
     "name": "stdout",
     "output_type": "stream",
     "text": [
      "[\"ram',shyam\", 'mohan', 'shreya']\n",
      "['admin', '1234', \"don't\", 'tryit']\n",
      "enter the choice from userid:ram\n",
      "enter the choice from passwd:1234\n",
      "please enter the valid input.\n"
     ]
    }
   ],
   "source": [
    "userid=[\"ram',shyam\",\"mohan\",\"shreya\"]\n",
    "passwd=[\"admin\",\"1234\",\"don't\",\"tryit\"]\n",
    "print(userid)\n",
    "print(passwd)\n",
    "userid1=input(\"enter the choice from userid:\")\n",
    "passwd1=input(\"enter the choice from passwd:\")\n",
    "if userid1 in userid and passwd1 in passwd:\n",
    "    print(\"login successfull\")\n",
    "else:\n",
    "    print(\"please enter the valid input.\")\n",
    "    "
   ]
  },
  {
   "cell_type": "code",
   "execution_count": null,
   "metadata": {},
   "outputs": [],
   "source": []
  },
  {
   "cell_type": "code",
   "execution_count": null,
   "metadata": {},
   "outputs": [],
   "source": []
  },
  {
   "cell_type": "code",
   "execution_count": 31,
   "metadata": {},
   "outputs": [
    {
     "name": "stdout",
     "output_type": "stream",
     "text": [
      "[\"ram',shyam\", 'mohan', 'shreya']\n",
      "['admin', '1234', \"don't\", 'tryit']\n",
      "enter the choice from userid:ram\n",
      "enter the choice from passwd:1234\n",
      "please enter the valid input.\n"
     ]
    }
   ],
   "source": [
    "userid=[\"ram',shyam\",\"mohan\",\"shreya\"]\n",
    "passwd=[\"admin\",\"1234\",\"don't\",\"tryit\"]\n",
    "print(userid)\n",
    "print(passwd)\n",
    "userid1=input(\"enter the choice from userid:\")\n",
    "passwd1=input(\"enter the choice from passwd:\")\n",
    "for userid1 in userid and passwd1 in passwd:\n",
    "    print(\"login successfull\")\n",
    "else:\n",
    "    print(\"please enter the valid input.\")\n",
    "    "
   ]
  },
  {
   "cell_type": "code",
   "execution_count": 32,
   "metadata": {},
   "outputs": [
    {
     "name": "stdout",
     "output_type": "stream",
     "text": [
      "[\"ram',shyam\", 'mohan', 'shreya']\n",
      "['admin', '1234', \"don't\", 'tryit']\n",
      "enter the choice from userid:ram\n",
      "enter the choice from passwd:1234\n"
     ]
    },
    {
     "ename": "TypeError",
     "evalue": "'bool' object is not iterable",
     "output_type": "error",
     "traceback": [
      "\u001b[1;31m---------------------------------------------------------------------------\u001b[0m",
      "\u001b[1;31mTypeError\u001b[0m                                 Traceback (most recent call last)",
      "\u001b[1;32m<ipython-input-32-4b9b838e230f>\u001b[0m in \u001b[0;36m<module>\u001b[1;34m()\u001b[0m\n\u001b[0;32m      5\u001b[0m \u001b[0muserid1\u001b[0m\u001b[1;33m=\u001b[0m\u001b[0minput\u001b[0m\u001b[1;33m(\u001b[0m\u001b[1;34m\"enter the choice from userid:\"\u001b[0m\u001b[1;33m)\u001b[0m\u001b[1;33m\u001b[0m\u001b[0m\n\u001b[0;32m      6\u001b[0m \u001b[0mpasswd1\u001b[0m\u001b[1;33m=\u001b[0m\u001b[0minput\u001b[0m\u001b[1;33m(\u001b[0m\u001b[1;34m\"enter the choice from passwd:\"\u001b[0m\u001b[1;33m)\u001b[0m\u001b[1;33m\u001b[0m\u001b[0m\n\u001b[1;32m----> 7\u001b[1;33m \u001b[1;32mfor\u001b[0m \u001b[0muserid1\u001b[0m \u001b[1;32min\u001b[0m \u001b[0muserid\u001b[0m \u001b[1;32mand\u001b[0m \u001b[0mpasswd1\u001b[0m \u001b[1;32min\u001b[0m \u001b[0mpasswd\u001b[0m\u001b[1;33m:\u001b[0m\u001b[1;33m\u001b[0m\u001b[0m\n\u001b[0m\u001b[0;32m      8\u001b[0m     \u001b[0mprint\u001b[0m\u001b[1;33m(\u001b[0m\u001b[1;34m\"login successfull\"\u001b[0m\u001b[1;33m)\u001b[0m\u001b[1;33m\u001b[0m\u001b[0m\n\u001b[0;32m      9\u001b[0m \u001b[1;32melse\u001b[0m\u001b[1;33m:\u001b[0m\u001b[1;33m\u001b[0m\u001b[0m\n",
      "\u001b[1;31mTypeError\u001b[0m: 'bool' object is not iterable"
     ]
    }
   ],
   "source": [
    "userid=[\"ram',shyam\",\"mohan\",\"shreya\"]\n",
    "passwd=[\"admin\",\"1234\",\"don't\",\"tryit\"]\n",
    "print(userid)\n",
    "print(passwd)\n",
    "userid1=input(\"enter the choice from userid:\")\n",
    "passwd1=input(\"enter the choice from passwd:\")\n",
    "for userid1 in userid and passwd1 in passwd:\n",
    "    print(\"login successfull\")\n",
    "else:\n",
    "    print(\"please enter the valid input.\")\n",
    "    "
   ]
  },
  {
   "cell_type": "code",
   "execution_count": 38,
   "metadata": {},
   "outputs": [
    {
     "name": "stdout",
     "output_type": "stream",
     "text": [
      "[\"ram',shyam\", 'mohan', 'shreya']\n",
      "['admin', '1234', \"don't\", 'tryit']\n",
      "enter the choice from userid:ram\n",
      "enter the choice from passwd:1234\n"
     ]
    }
   ],
   "source": [
    "userid=[\"ram',shyam\",\"mohan\",\"shreya\"]\n",
    "passwd=[\"admin\",\"1234\",\"don't\",\"tryit\"]\n",
    "print(userid)\n",
    "print(passwd)\n",
    "userid1=input(\"enter the choice from userid:\")\n",
    "passwd1=input(\"enter the choice from passwd:\")\n",
    "for i in range(len(userid)):\n",
    "    if userid1==userid[i]:\n",
    "        if passwd1==passwd[i]:\n",
    "            print(\"login successfull\")\n",
    "            break\n",
    "            \n",
    "if i==len(userid):\n",
    "    print(\"please enter valid input\")\n",
    "    "
   ]
  },
  {
   "cell_type": "code",
   "execution_count": null,
   "metadata": {},
   "outputs": [],
   "source": []
  },
  {
   "cell_type": "code",
   "execution_count": null,
   "metadata": {},
   "outputs": [],
   "source": []
  },
  {
   "cell_type": "code",
   "execution_count": 41,
   "metadata": {},
   "outputs": [
    {
     "name": "stdout",
     "output_type": "stream",
     "text": [
      "[\"ram',shyam\", 'mohan', 'shreya']\n",
      "['admin', '1234', \"don't\", 'tryit']\n",
      "enter the choice from userid:ahv\n",
      "enter the choice from passwd:shbh\n",
      "0\n",
      "1\n",
      "2\n",
      "2\n",
      "please enter valid input\n"
     ]
    }
   ],
   "source": [
    "userid=[\"ram\",\"shyam\",\"mohan\",\"shreya\"]\n",
    "passwd=[\"admin\",\"1234\",\"don't\",\"tryit\"]\n",
    "userid1=input(\"enter the choice from userid:\")\n",
    "passwd1=input(\"enter the choice from passwd:\")\n",
    "for i in range(len(userid)):\n",
    "    if userid1==userid[i]:\n",
    "        if passwd1==passwd[i]:\n",
    "            print(\"login successfull\")\n",
    "            break\n",
    "    print(i)\n",
    "print(i)\n",
    "if i==len(userid)-1:\n",
    "    print(\"please enter valid input\")\n",
    "    "
   ]
  },
  {
   "cell_type": "code",
   "execution_count": 42,
   "metadata": {},
   "outputs": [
    {
     "name": "stdout",
     "output_type": "stream",
     "text": [
      "3\n"
     ]
    }
   ],
   "source": [
    "print(len(userid))"
   ]
  },
  {
   "cell_type": "code",
   "execution_count": 44,
   "metadata": {},
   "outputs": [
    {
     "name": "stdout",
     "output_type": "stream",
     "text": [
      "enter the choice from userid:ram\n",
      "enter the choice from passwd:admin\n",
      "@\n",
      "#\n",
      "login successfull\n"
     ]
    }
   ],
   "source": [
    "userid=[\"ram\",\"shyam\",\"mohan\",\"shreya\"]\n",
    "passwd=[\"admin\",\"1234\",\"don't\",\"tryit\"]\n",
    "userid1=input(\"enter the choice from userid:\")\n",
    "passwd1=input(\"enter the choice from passwd:\")\n",
    "for i in range(len(userid)):\n",
    "    if userid1==userid[i]:\n",
    "        print(\"@\")\n",
    "        if passwd1==passwd[i]:\n",
    "            print(\"#\")\n",
    "            print(\"login successfull\")\n",
    "            break\n",
    "\n",
    "if i==len(userid)-1:\n",
    "    print(\"please enter valid input\")\n",
    "    "
   ]
  },
  {
   "cell_type": "code",
   "execution_count": null,
   "metadata": {},
   "outputs": [],
   "source": []
  },
  {
   "cell_type": "code",
   "execution_count": 45,
   "metadata": {},
   "outputs": [
    {
     "name": "stdout",
     "output_type": "stream",
     "text": [
      "enter the choice from userid:ram\n",
      "enter the choice from passwd:admin\n",
      "@\n",
      "#\n",
      "login successfull\n"
     ]
    }
   ],
   "source": [
    "userid=[\"ram\",\"shyam\",\"mohan\",\"shreya\"]\n",
    "passwd=[\"admin\",\"1234\",\"don't\",\"tryit\"]\n",
    "userid1=input(\"enter the choice from userid:\")\n",
    "passwd1=input(\"enter the choice from passwd:\")\n",
    "for i in range(len(userid)):\n",
    "    if userid1==userid[i]:\n",
    "        if passwd1==passwd[i]:\n",
    "            print(\"login successfull\")\n",
    "            break\n",
    "\n",
    "if i==len(userid)-1:\n",
    "    print(\"please enter valid input\")\n",
    "    "
   ]
  },
  {
   "cell_type": "code",
   "execution_count": 46,
   "metadata": {},
   "outputs": [],
   "source": [
    " l=[1,\"str\"]\n",
    "k = 'Aman Agarwal'"
   ]
  },
  {
   "cell_type": "code",
   "execution_count": 47,
   "metadata": {},
   "outputs": [
    {
     "data": {
      "text/plain": [
       "'Aman'"
      ]
     },
     "execution_count": 47,
     "metadata": {},
     "output_type": "execute_result"
    }
   ],
   "source": [
    "k[0:4]"
   ]
  },
  {
   "cell_type": "code",
   "execution_count": 48,
   "metadata": {},
   "outputs": [],
   "source": [
    "l[0] = 2"
   ]
  },
  {
   "cell_type": "code",
   "execution_count": 49,
   "metadata": {},
   "outputs": [
    {
     "data": {
      "text/plain": [
       "[2, 'str']"
      ]
     },
     "execution_count": 49,
     "metadata": {},
     "output_type": "execute_result"
    }
   ],
   "source": [
    "l"
   ]
  },
  {
   "cell_type": "code",
   "execution_count": 4,
   "metadata": {},
   "outputs": [
    {
     "name": "stdout",
     "output_type": "stream",
     "text": [
      "enter the userid:ram\n"
     ]
    },
    {
     "ename": "AttributeError",
     "evalue": "'str' object has no attribute 'append'",
     "output_type": "error",
     "traceback": [
      "\u001b[1;31m---------------------------------------------------------------------------\u001b[0m",
      "\u001b[1;31mAttributeError\u001b[0m                            Traceback (most recent call last)",
      "\u001b[1;32m<ipython-input-4-0d4d5c2d6dd0>\u001b[0m in \u001b[0;36m<module>\u001b[1;34m()\u001b[0m\n\u001b[0;32m      2\u001b[0m \u001b[0mpasswd\u001b[0m\u001b[1;33m=\u001b[0m\u001b[1;33m[\u001b[0m\u001b[1;33m]\u001b[0m\u001b[1;33m\u001b[0m\u001b[0m\n\u001b[0;32m      3\u001b[0m \u001b[0muserid\u001b[0m\u001b[1;33m=\u001b[0m\u001b[0minput\u001b[0m\u001b[1;33m(\u001b[0m\u001b[1;34m\"enter the userid:\"\u001b[0m\u001b[1;33m)\u001b[0m\u001b[1;33m\u001b[0m\u001b[0m\n\u001b[1;32m----> 4\u001b[1;33m \u001b[0muserid\u001b[0m\u001b[1;33m.\u001b[0m\u001b[0mappend\u001b[0m\u001b[1;33m(\u001b[0m\u001b[0muserid\u001b[0m\u001b[1;33m)\u001b[0m\u001b[1;33m\u001b[0m\u001b[0m\n\u001b[0m\u001b[0;32m      5\u001b[0m \u001b[0mpasswd1\u001b[0m\u001b[1;33m=\u001b[0m\u001b[0minput\u001b[0m\u001b[1;33m(\u001b[0m\u001b[1;34m\"enter the password:\"\u001b[0m\u001b[1;33m)\u001b[0m\u001b[1;33m\u001b[0m\u001b[0m\n\u001b[0;32m      6\u001b[0m \u001b[0muserid\u001b[0m\u001b[1;33m.\u001b[0m\u001b[0mappend\u001b[0m\u001b[1;33m(\u001b[0m\u001b[0mpasswd\u001b[0m\u001b[1;33m)\u001b[0m\u001b[1;33m\u001b[0m\u001b[0m\n",
      "\u001b[1;31mAttributeError\u001b[0m: 'str' object has no attribute 'append'"
     ]
    }
   ],
   "source": [
    "userid=[]\n",
    "passwd=[]\n",
    "p=input(\"enter the userid:\")\n",
    "userid.append(p)\n",
    "q=input(\"enter the password:\")\n",
    "passwd.append(q)\n",
    "userid1=input(\"enter the userid ,you have saved:\")\n",
    "password1=input(\"enter the password,you have saved:\")\n",
    "for i in range(len(userid)):\n",
    "    if userid1==userid[i]:\n",
    "        if passwd1==passwd[i]:\n",
    "            print(\"login successfull\")\n",
    "            break\n",
    "\n",
    "if i==len(userid)-1:\n",
    "    print(\"please enter valid input\")\n",
    "    "
   ]
  },
  {
   "cell_type": "code",
   "execution_count": null,
   "metadata": {},
   "outputs": [],
   "source": []
  }
 ],
 "metadata": {
  "kernelspec": {
   "display_name": "Python 3",
   "language": "python",
   "name": "python3"
  },
  "language_info": {
   "codemirror_mode": {
    "name": "ipython",
    "version": 3
   },
   "file_extension": ".py",
   "mimetype": "text/x-python",
   "name": "python",
   "nbconvert_exporter": "python",
   "pygments_lexer": "ipython3",
   "version": "3.6.5"
  }
 },
 "nbformat": 4,
 "nbformat_minor": 2
}
