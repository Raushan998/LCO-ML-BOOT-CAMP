{
 "cells": [
  {
   "cell_type": "code",
   "execution_count": 3,
   "metadata": {},
   "outputs": [],
   "source": [
    "import re"
   ]
  },
  {
   "cell_type": "code",
   "execution_count": 4,
   "metadata": {},
   "outputs": [],
   "source": [
    "fg=\"the cat is hungry and she want to sleep on mat.\""
   ]
  },
  {
   "cell_type": "code",
   "execution_count": 5,
   "metadata": {},
   "outputs": [],
   "source": [
    "\n",
    "m=\"123 the cat is hungry.\"\n",
    "exp=\"\\d+\""
   ]
  },
  {
   "cell_type": "code",
   "execution_count": 6,
   "metadata": {},
   "outputs": [
    {
     "data": {
      "text/plain": [
       "['123']"
      ]
     },
     "execution_count": 6,
     "metadata": {},
     "output_type": "execute_result"
    }
   ],
   "source": [
    "re.findall(exp,m)\n",
    "#\\d=all numeric digit\n",
    "#\\w=all words\n",
    "#\\s=all the white space\n",
    "#\\W=all exclusive words\n",
    "#\\!@#$^&*()\n",
    "#/d+=returns all digits with same number\n",
    "#\"[A-Za-z]+\"=returns all the words\n",
    "#\"[\\d]+\"=returns all the numbers in one string\n",
    "#\"[A-Z]\"-returns all the capital letters\n",
    "#\"[^A-Z]\"=returns exclusive capital letters\n",
    "#\"[A-Z]@\"=return all the special characters"
   ]
  },
  {
   "cell_type": "code",
   "execution_count": 7,
   "metadata": {},
   "outputs": [],
   "source": [
    "exp2='\\w+'"
   ]
  },
  {
   "cell_type": "code",
   "execution_count": 8,
   "metadata": {},
   "outputs": [
    {
     "data": {
      "text/plain": [
       "['the',\n",
       " 'cat',\n",
       " 'is',\n",
       " 'hungry',\n",
       " 'and',\n",
       " 'she',\n",
       " 'want',\n",
       " 'to',\n",
       " 'sleep',\n",
       " 'on',\n",
       " 'mat']"
      ]
     },
     "execution_count": 8,
     "metadata": {},
     "output_type": "execute_result"
    }
   ],
   "source": [
    "re.findall(exp2,fg)"
   ]
  },
  {
   "cell_type": "code",
   "execution_count": 9,
   "metadata": {},
   "outputs": [],
   "source": [
    "yu=\"my number is 2456789\""
   ]
  },
  {
   "cell_type": "code",
   "execution_count": 14,
   "metadata": {},
   "outputs": [],
   "source": [
    "exp3=\"[^A-Za-z]+\"\n",
    "exp4=\"[^\\d]\""
   ]
  },
  {
   "cell_type": "code",
   "execution_count": 15,
   "metadata": {},
   "outputs": [
    {
     "data": {
      "text/plain": [
       "[' ', ' ', ' 2456789']"
      ]
     },
     "execution_count": 15,
     "metadata": {},
     "output_type": "execute_result"
    }
   ],
   "source": [
    "re.findall(exp3,yu)"
   ]
  },
  {
   "cell_type": "raw",
   "metadata": {},
   "source": []
  },
  {
   "cell_type": "code",
   "execution_count": 45,
   "metadata": {},
   "outputs": [
    {
     "data": {
      "text/plain": [
       "['2', '4', '5', '6', '7', '8', '9']"
      ]
     },
     "execution_count": 45,
     "metadata": {},
     "output_type": "execute_result"
    }
   ],
   "source": [
    "\n",
    "re.findall(exp4,yu)"
   ]
  },
  {
   "cell_type": "code",
   "execution_count": 58,
   "metadata": {},
   "outputs": [
    {
     "name": "stdout",
     "output_type": "stream",
     "text": [
      "enter your password:user@1233\n",
      "you are True\n"
     ]
    }
   ],
   "source": [
    "user=input(\"enter your password:\")\n",
    "exp=\"[A-Z]\"\n",
    "exp1=\"\\d\"\n",
    "exp=\"@\"\n",
    "p=re.findall(exp,user)\n",
    "for i in range(len(user)):\n",
    "    if user[i] in re.findall(exp,user):\n",
    "        print(\"you are True\")\n",
    "         \n",
    "        "
   ]
  },
  {
   "cell_type": "code",
   "execution_count": 62,
   "metadata": {},
   "outputs": [
    {
     "data": {
      "text/plain": [
       "['e', 'e', 'a', 'e', 'b', 'e']"
      ]
     },
     "execution_count": 62,
     "metadata": {},
     "output_type": "execute_result"
    }
   ],
   "source": [
    "import re\n",
    "p=re.compile(\"[a-e]\")\n",
    "a=\"where are u going brother?\"\n",
    "re.findall(p,a)"
   ]
  },
  {
   "cell_type": "code",
   "execution_count": 74,
   "metadata": {},
   "outputs": [
    {
     "data": {
      "text/plain": [
       "['8873264837']"
      ]
     },
     "execution_count": 74,
     "metadata": {},
     "output_type": "execute_result"
    }
   ],
   "source": [
    "import re\n",
    "p=re.compile(\"\\d+\")\n",
    "a=\"your mobile number is 8873264837\"\n",
    "re.findall(p,a)"
   ]
  },
  {
   "cell_type": "code",
   "execution_count": 76,
   "metadata": {},
   "outputs": [
    {
     "name": "stdout",
     "output_type": "stream",
     "text": [
      "[' ', ' ', ' ', ' ', '?', ',', ' ', ' ', ' ', ' ', ' ', ' ', ' ', '.', ' ', ' ', ' ', ' ']\n"
     ]
    }
   ],
   "source": [
    "import re\n",
    "p=re.compile(\"\\W\")\n",
    "a=\"Hello How are you ?, are you okay with your phone .Your mobile number is 8873264837\"\n",
    "print(re.findall(p,a))"
   ]
  },
  {
   "cell_type": "code",
   "execution_count": 88,
   "metadata": {},
   "outputs": [
    {
     "data": {
      "text/plain": [
       "['ab', 'a', 'ab', 'abbbb', 'a']"
      ]
     },
     "execution_count": 88,
     "metadata": {},
     "output_type": "execute_result"
    }
   ],
   "source": [
    "import re\n",
    "p=re.compile(\"ab*\")\n",
    "a=\"abaab  abbbba\"\n",
    "re.findall(p,a)"
   ]
  },
  {
   "cell_type": "code",
   "execution_count": 90,
   "metadata": {},
   "outputs": [],
   "source": [
    "from re  import split"
   ]
  },
  {
   "cell_type": "code",
   "execution_count": 92,
   "metadata": {},
   "outputs": [
    {
     "name": "stdout",
     "output_type": "stream",
     "text": [
      "['word', 's', 'worlds', 'words']\n"
     ]
    }
   ],
   "source": [
    "print(split(\"\\W+\",\"word's,worlds,words\"))"
   ]
  },
  {
   "cell_type": "code",
   "execution_count": 95,
   "metadata": {},
   "outputs": [
    {
     "name": "stdout",
     "output_type": "stream",
     "text": [
      "['hello how are you ', '.', ' Are you ', ' getting ', ' up early in morning at ', ':', 'Pm']\n"
     ]
    }
   ],
   "source": [
    "print(split('\\d+',\"hello how are you 15.16 Are you 13 getting 14 up early in morning at 11:06Pm\"))"
   ]
  },
  {
   "cell_type": "code",
   "execution_count": 101,
   "metadata": {},
   "outputs": [
    {
     "name": "stdout",
     "output_type": "stream",
     "text": [
      "['Get', 'up', 'early', 'in', 'morning', 'on', '12th', 'january', '2016', 'at', '4', '30PM', '']\n"
     ]
    }
   ],
   "source": [
    "import re\n",
    "print(re.split(\"\\W+\",\"Get up early in morning on 12th january 2016 at 4:30PM.\"))"
   ]
  },
  {
   "cell_type": "code",
   "execution_count": 103,
   "metadata": {},
   "outputs": [
    {
     "data": {
      "text/plain": [
       "['', 'y,', 'oy,oh ', 'oy,', 'om', ' h', 'r', '.']"
      ]
     },
     "execution_count": 103,
     "metadata": {},
     "output_type": "execute_result"
    }
   ],
   "source": [
    "import re\n",
    "re.split(\"[a-f]+\",\"Aey,boy,oh boy,come here.\",flags=re.IGNORECASE)"
   ]
  },
  {
   "cell_type": "code",
   "execution_count": 104,
   "metadata": {},
   "outputs": [],
   "source": [
    "import re"
   ]
  },
  {
   "cell_type": "code",
   "execution_count": 2,
   "metadata": {},
   "outputs": [
    {
     "name": "stdout",
     "output_type": "stream",
     "text": [
      "abc@gmail.com xyz\n",
      "abc@gmail.com\n"
     ]
    }
   ],
   "source": [
    "import re\n",
    "user=input()\n",
    "a='\\S+@+\\S+'\n",
    "l=re.findall(a,user)\n",
    "print(l[0])"
   ]
  },
  {
   "cell_type": "code",
   "execution_count": 119,
   "metadata": {},
   "outputs": [
    {
     "data": {
      "text/plain": [
       "['h', 'ell', 'o']"
      ]
     },
     "execution_count": 119,
     "metadata": {},
     "output_type": "execute_result"
    }
   ],
   "source": [
    "import re\n",
    "a=\"hello\"\n",
    "re.findall(\".l*\",a)"
   ]
  },
  {
   "cell_type": "code",
   "execution_count": 121,
   "metadata": {},
   "outputs": [
    {
     "data": {
      "text/plain": [
       "[]"
      ]
     },
     "execution_count": 121,
     "metadata": {},
     "output_type": "execute_result"
    }
   ],
   "source": [
    "import re\n",
    "a=\"hello a how are you\"\n",
    "re.findall(\"/s\",a)"
   ]
  },
  {
   "cell_type": "code",
   "execution_count": 122,
   "metadata": {},
   "outputs": [],
   "source": [
    "import re"
   ]
  },
  {
   "cell_type": "code",
   "execution_count": 123,
   "metadata": {},
   "outputs": [],
   "source": [
    "a=\"I get up at 12:00 noon in 12th January.\""
   ]
  },
  {
   "cell_type": "code",
   "execution_count": 124,
   "metadata": {},
   "outputs": [],
   "source": [
    "exp=\"\\d+\""
   ]
  },
  {
   "cell_type": "code",
   "execution_count": 125,
   "metadata": {},
   "outputs": [
    {
     "data": {
      "text/plain": [
       "['12', '00', '12']"
      ]
     },
     "execution_count": 125,
     "metadata": {},
     "output_type": "execute_result"
    }
   ],
   "source": [
    "re.findall(exp,a)"
   ]
  },
  {
   "cell_type": "code",
   "execution_count": 126,
   "metadata": {},
   "outputs": [
    {
     "name": "stdout",
     "output_type": "stream",
     "text": [
      "['I get up at ', ':', ' noon in ', 'th January.']\n"
     ]
    }
   ],
   "source": [
    "print(split(\"\\d+\",a))"
   ]
  },
  {
   "cell_type": "code",
   "execution_count": 127,
   "metadata": {},
   "outputs": [
    {
     "name": "stdout",
     "output_type": "stream",
     "text": [
      "['I get up at ', ':', ' noon in ', 'th January.']\n"
     ]
    }
   ],
   "source": [
    "print(re.split(exp,a))"
   ]
  },
  {
   "cell_type": "code",
   "execution_count": 128,
   "metadata": {},
   "outputs": [],
   "source": [
    "from re import split"
   ]
  },
  {
   "cell_type": "code",
   "execution_count": 137,
   "metadata": {},
   "outputs": [
    {
     "name": "stdout",
     "output_type": "stream",
     "text": [
      "['I get up at ', ':00 noon in 12th January.']\n"
     ]
    }
   ],
   "source": [
    "print(re.split(exp,a,1))"
   ]
  },
  {
   "cell_type": "code",
   "execution_count": 139,
   "metadata": {},
   "outputs": [],
   "source": [
    "import re"
   ]
  },
  {
   "cell_type": "code",
   "execution_count": 140,
   "metadata": {},
   "outputs": [],
   "source": [
    "a=\"ae boy oh BOY come here in the park.\""
   ]
  },
  {
   "cell_type": "code",
   "execution_count": 146,
   "metadata": {},
   "outputs": [
    {
     "name": "stdout",
     "output_type": "stream",
     "text": [
      "['', '', ' ', 'oy oh ', 'OY ', 'om', ' h', 'r', ' in th', ' p', 'rk.']\n"
     ]
    }
   ],
   "source": [
    "print(split(\"[a-f]\",a,flags=re.IGNORECASE))"
   ]
  },
  {
   "cell_type": "code",
   "execution_count": 147,
   "metadata": {},
   "outputs": [],
   "source": [
    "import re"
   ]
  },
  {
   "cell_type": "code",
   "execution_count": 148,
   "metadata": {},
   "outputs": [],
   "source": [
    "a=\"subject booked a uber for us.\""
   ]
  },
  {
   "cell_type": "code",
   "execution_count": 149,
   "metadata": {},
   "outputs": [
    {
     "data": {
      "text/plain": [
       "'s*$ject booked a *$er for us.'"
      ]
     },
     "execution_count": 149,
     "metadata": {},
     "output_type": "execute_result"
    }
   ],
   "source": [
    "re.sub('ub',\"*$\",a,flags=re.IGNORECASE)"
   ]
  },
  {
   "cell_type": "code",
   "execution_count": 151,
   "metadata": {},
   "outputs": [],
   "source": [
    "import re"
   ]
  },
  {
   "cell_type": "code",
   "execution_count": 155,
   "metadata": {},
   "outputs": [],
   "source": [
    "def getNumbers(str): \n",
    "    array = re.findall('[0-9]+', str) \n",
    "    return array "
   ]
  },
  {
   "cell_type": "code",
   "execution_count": 156,
   "metadata": {},
   "outputs": [
    {
     "name": "stdout",
     "output_type": "stream",
     "text": [
      "345 43 42\n"
     ]
    }
   ],
   "source": [
    "str = \"adbv345hj43hvb42\"\n",
    "array = getNumbers(str) \n",
    "print(*array) "
   ]
  },
  {
   "cell_type": "code",
   "execution_count": 158,
   "metadata": {},
   "outputs": [],
   "source": [
    "phonenumber=\"My number is 88-73-26-48-37\""
   ]
  },
  {
   "cell_type": "code",
   "execution_count": 161,
   "metadata": {},
   "outputs": [
    {
     "name": "stdout",
     "output_type": "stream",
     "text": [
      "88-73-26-48-37\n"
     ]
    }
   ],
   "source": [
    "l=re.findall('\\d\\d-\\d\\d-\\d\\d-\\d\\d-\\d\\d',phonenumber)\n",
    "print(*l)"
   ]
  },
  {
   "cell_type": "code",
   "execution_count": 167,
   "metadata": {},
   "outputs": [
    {
     "name": "stdout",
     "output_type": "stream",
     "text": [
      "HaHaHa\n"
     ]
    }
   ],
   "source": [
    "import re \n",
    "haRegex = re.compile(\"(Ha){3}\") \n",
    "mo1 = haRegex.search('HaHaHa') \n",
    "print(mo1.group()) \n"
   ]
  },
  {
   "cell_type": "code",
   "execution_count": 168,
   "metadata": {},
   "outputs": [
    {
     "data": {
      "text/plain": [
       "str"
      ]
     },
     "execution_count": 168,
     "metadata": {},
     "output_type": "execute_result"
    }
   ],
   "source": [
    "type(mo1.group())"
   ]
  },
  {
   "cell_type": "code",
   "execution_count": 173,
   "metadata": {},
   "outputs": [
    {
     "data": {
      "text/plain": [
       "'a'"
      ]
     },
     "execution_count": 173,
     "metadata": {},
     "output_type": "execute_result"
    }
   ],
   "source": [
    "(mo1.group()[1])"
   ]
  },
  {
   "cell_type": "code",
   "execution_count": 198,
   "metadata": {},
   "outputs": [
    {
     "name": "stdout",
     "output_type": "stream",
     "text": [
      "wo\n"
     ]
    }
   ],
   "source": [
    "import re \n",
    "batRegex = re.compile(r'Bat(wo)*man') \n",
    "mo3 = batRegex.search('The Adventures of Batwowowowoman') \n",
    "print(mo3.group())"
   ]
  },
  {
   "cell_type": "code",
   "execution_count": 208,
   "metadata": {},
   "outputs": [
    {
     "data": {
      "text/html": [
       "<div>\n",
       "<style scoped>\n",
       "    .dataframe tbody tr th:only-of-type {\n",
       "        vertical-align: middle;\n",
       "    }\n",
       "\n",
       "    .dataframe tbody tr th {\n",
       "        vertical-align: top;\n",
       "    }\n",
       "\n",
       "    .dataframe thead th {\n",
       "        text-align: right;\n",
       "    }\n",
       "</style>\n",
       "<table border=\"1\" class=\"dataframe\">\n",
       "  <thead>\n",
       "    <tr style=\"text-align: right;\">\n",
       "      <th></th>\n",
       "      <th>Email</th>\n",
       "      <th>Mobile</th>\n",
       "    </tr>\n",
       "  </thead>\n",
       "  <tbody>\n",
       "    <tr>\n",
       "      <th>0</th>\n",
       "      <td>minessecretary@dmg-</td>\n",
       "      <td>99291-08338</td>\n",
       "    </tr>\n",
       "    <tr>\n",
       "      <th>1</th>\n",
       "      <td>jsmines-rj@nic.in</td>\n",
       "      <td>75977-89216</td>\n",
       "    </tr>\n",
       "    <tr>\n",
       "      <th>2</th>\n",
       "      <td>minessecretary@dmg-</td>\n",
       "      <td>94148-28210</td>\n",
       "    </tr>\n",
       "    <tr>\n",
       "      <th>3</th>\n",
       "      <td>osd@dmg-raj.org</td>\n",
       "      <td>94140-46157</td>\n",
       "    </tr>\n",
       "    <tr>\n",
       "      <th>4</th>\n",
       "      <td>supgeosect@dmg-raj.org</td>\n",
       "      <td>98293-64471</td>\n",
       "    </tr>\n",
       "    <tr>\n",
       "      <th>5</th>\n",
       "      <td>director@dmg-raj.org</td>\n",
       "      <td>89520-70405</td>\n",
       "    </tr>\n",
       "    <tr>\n",
       "      <th>6</th>\n",
       "      <td>admed@dmg-raj.org</td>\n",
       "      <td>94142-75509</td>\n",
       "    </tr>\n",
       "    <tr>\n",
       "      <th>7</th>\n",
       "      <td>admhq@dmg-raj.org</td>\n",
       "      <td>94140-97200</td>\n",
       "    </tr>\n",
       "    <tr>\n",
       "      <th>8</th>\n",
       "      <td>adghq@dmg-raj.org</td>\n",
       "      <td>94143-43717</td>\n",
       "    </tr>\n",
       "    <tr>\n",
       "      <th>9</th>\n",
       "      <td>ada@dmg-raj.org</td>\n",
       "      <td>94140-42843</td>\n",
       "    </tr>\n",
       "    <tr>\n",
       "      <th>10</th>\n",
       "      <td>fa@dmg-raj.org</td>\n",
       "      <td>94140-33794</td>\n",
       "    </tr>\n",
       "    <tr>\n",
       "      <th>11</th>\n",
       "      <td>smevighq@dmg-raj.org</td>\n",
       "      <td>97991-68501</td>\n",
       "    </tr>\n",
       "    <tr>\n",
       "      <th>12</th>\n",
       "      <td>smeplan@dmg-raj.org</td>\n",
       "      <td>94142-64334</td>\n",
       "    </tr>\n",
       "    <tr>\n",
       "      <th>13</th>\n",
       "      <td>major.cell@dmg-raj.org</td>\n",
       "      <td>94140-33794</td>\n",
       "    </tr>\n",
       "    <tr>\n",
       "      <th>14</th>\n",
       "      <td>minor.cell@dmg-raj.org</td>\n",
       "      <td>94143-91920</td>\n",
       "    </tr>\n",
       "    <tr>\n",
       "      <th>15</th>\n",
       "      <td>ta.dmg@dmg-raj.org</td>\n",
       "      <td>94143-91920</td>\n",
       "    </tr>\n",
       "    <tr>\n",
       "      <th>16</th>\n",
       "      <td>supgeohq@dmg-raj.org</td>\n",
       "      <td>94611-79587</td>\n",
       "    </tr>\n",
       "    <tr>\n",
       "      <th>17</th>\n",
       "      <td>supgeo.rs@dmg-raj.org</td>\n",
       "      <td>94147-37304</td>\n",
       "    </tr>\n",
       "    <tr>\n",
       "      <th>18</th>\n",
       "      <td>supgeophy@dmg-raj.org</td>\n",
       "      <td>94145-57745</td>\n",
       "    </tr>\n",
       "    <tr>\n",
       "      <th>19</th>\n",
       "      <td>srchemeng@dmg-raj.org</td>\n",
       "      <td>94142-89073</td>\n",
       "    </tr>\n",
       "    <tr>\n",
       "      <th>20</th>\n",
       "      <td>sg.hq@dmg-raj.org</td>\n",
       "      <td>94141-62364</td>\n",
       "    </tr>\n",
       "    <tr>\n",
       "      <th>21</th>\n",
       "      <td>ad.stat@dmg-raj.org</td>\n",
       "      <td>92527-95320</td>\n",
       "    </tr>\n",
       "    <tr>\n",
       "      <th>22</th>\n",
       "      <td>smeplan@dmg-raj.org</td>\n",
       "      <td>94600-08059</td>\n",
       "    </tr>\n",
       "    <tr>\n",
       "      <th>23</th>\n",
       "      <td>sg.rs@dmg-raj.org</td>\n",
       "      <td>94145-57745</td>\n",
       "    </tr>\n",
       "    <tr>\n",
       "      <th>24</th>\n",
       "      <td>po@dmg-raj.org</td>\n",
       "      <td>94140-33794</td>\n",
       "    </tr>\n",
       "    <tr>\n",
       "      <th>25</th>\n",
       "      <td>supgeophy@dmg-raj.org</td>\n",
       "      <td>94612-90828</td>\n",
       "    </tr>\n",
       "    <tr>\n",
       "      <th>26</th>\n",
       "      <td>cce@dmg-raj.org</td>\n",
       "      <td>94620-22503</td>\n",
       "    </tr>\n",
       "    <tr>\n",
       "      <th>27</th>\n",
       "      <td>dlr@dmg-raj.org</td>\n",
       "      <td>90017-85846</td>\n",
       "    </tr>\n",
       "    <tr>\n",
       "      <th>28</th>\n",
       "      <td>fa@dmg-raj.org</td>\n",
       "      <td>94140-33794</td>\n",
       "    </tr>\n",
       "    <tr>\n",
       "      <th>29</th>\n",
       "      <td>dmgoms@dmg-raj.org</td>\n",
       "      <td>96808-65436</td>\n",
       "    </tr>\n",
       "    <tr>\n",
       "      <th>...</th>\n",
       "      <td>...</td>\n",
       "      <td>...</td>\n",
       "    </tr>\n",
       "    <tr>\n",
       "      <th>173</th>\n",
       "      <td>sgajmer@dmg-raj.org</td>\n",
       "      <td>94685-56328</td>\n",
       "    </tr>\n",
       "    <tr>\n",
       "      <th>174</th>\n",
       "      <td>sgajmer@dmg-raj.org</td>\n",
       "      <td>94133-43132</td>\n",
       "    </tr>\n",
       "    <tr>\n",
       "      <th>175</th>\n",
       "      <td>sgalwar@dmg-raj.org</td>\n",
       "      <td>94141-56492</td>\n",
       "    </tr>\n",
       "    <tr>\n",
       "      <th>176</th>\n",
       "      <td>supgeojaipur@dmg-raj.org</td>\n",
       "      <td>94145-44223</td>\n",
       "    </tr>\n",
       "    <tr>\n",
       "      <th>177</th>\n",
       "      <td>sgalwar@dmg-raj.org</td>\n",
       "      <td>94142-63213</td>\n",
       "    </tr>\n",
       "    <tr>\n",
       "      <th>178</th>\n",
       "      <td>adgudaipur@dmg-raj.org</td>\n",
       "      <td>94141-62329</td>\n",
       "    </tr>\n",
       "    <tr>\n",
       "      <th>179</th>\n",
       "      <td>supgeophos.udaipur@dmg-</td>\n",
       "      <td>94142-34845</td>\n",
       "    </tr>\n",
       "    <tr>\n",
       "      <th>180</th>\n",
       "      <td>supgeotrib.udaipur@dmg-</td>\n",
       "      <td>94143-95618</td>\n",
       "    </tr>\n",
       "    <tr>\n",
       "      <th>181</th>\n",
       "      <td>supgeobhilwara@dmg-</td>\n",
       "      <td>81079-88118</td>\n",
       "    </tr>\n",
       "    <tr>\n",
       "      <th>182</th>\n",
       "      <td>se-mdudaipur@dmg-raj.org</td>\n",
       "      <td>94142-63213</td>\n",
       "    </tr>\n",
       "    <tr>\n",
       "      <th>183</th>\n",
       "      <td>supgeophos.udaipur@dmg-</td>\n",
       "      <td>94147-63136</td>\n",
       "    </tr>\n",
       "    <tr>\n",
       "      <th>184</th>\n",
       "      <td>supgeotrib.udaipur@dmg-</td>\n",
       "      <td>94144-48353</td>\n",
       "    </tr>\n",
       "    <tr>\n",
       "      <th>185</th>\n",
       "      <td>sgbanswara@dmg-raj.org</td>\n",
       "      <td>94144-48353</td>\n",
       "    </tr>\n",
       "    <tr>\n",
       "      <th>186</th>\n",
       "      <td>supgeobhilwara@dmg-</td>\n",
       "      <td>94607-79502</td>\n",
       "    </tr>\n",
       "    <tr>\n",
       "      <th>187</th>\n",
       "      <td>sgchittorgarh@dmg-raj.org</td>\n",
       "      <td>94141-77418</td>\n",
       "    </tr>\n",
       "    <tr>\n",
       "      <th>188</th>\n",
       "      <td>sgrajsamand@dmg-raj.org</td>\n",
       "      <td>94607-79502</td>\n",
       "    </tr>\n",
       "    <tr>\n",
       "      <th>189</th>\n",
       "      <td>sgsirohi@dmg-raj.org</td>\n",
       "      <td>94147-21712</td>\n",
       "    </tr>\n",
       "    <tr>\n",
       "      <th>190</th>\n",
       "      <td>meworkshopudaipur@dmg-</td>\n",
       "      <td>94144-49049</td>\n",
       "    </tr>\n",
       "    <tr>\n",
       "      <th>191</th>\n",
       "      <td>supgeophos.udaipur@dmg-</td>\n",
       "      <td>94143-05131</td>\n",
       "    </tr>\n",
       "    <tr>\n",
       "      <th>192</th>\n",
       "      <td>supgeotrib.udaipur@dmg-</td>\n",
       "      <td>94130-17551</td>\n",
       "    </tr>\n",
       "    <tr>\n",
       "      <th>193</th>\n",
       "      <td>supgeotrib.udaipur@dmg-</td>\n",
       "      <td>94142-18109</td>\n",
       "    </tr>\n",
       "    <tr>\n",
       "      <th>194</th>\n",
       "      <td>sgchittorgarh@dmg-raj.org</td>\n",
       "      <td>94609-23965</td>\n",
       "    </tr>\n",
       "    <tr>\n",
       "      <th>195</th>\n",
       "      <td>sgrajsamand@dmg-raj.org</td>\n",
       "      <td>94146-04424</td>\n",
       "    </tr>\n",
       "    <tr>\n",
       "      <th>196</th>\n",
       "      <td>adgjodhpur@dmg-raj.org</td>\n",
       "      <td>94609-23965</td>\n",
       "    </tr>\n",
       "    <tr>\n",
       "      <th>197</th>\n",
       "      <td>supgeojodhpur@dmg-</td>\n",
       "      <td>94146-48781</td>\n",
       "    </tr>\n",
       "    <tr>\n",
       "      <th>198</th>\n",
       "      <td>supgeojaisalmer@dmg-</td>\n",
       "      <td>94607-83197</td>\n",
       "    </tr>\n",
       "    <tr>\n",
       "      <th>199</th>\n",
       "      <td>sgbarmer@dmg-raj.org</td>\n",
       "      <td>92143-05456</td>\n",
       "    </tr>\n",
       "    <tr>\n",
       "      <th>200</th>\n",
       "      <td>sgjaisalmer@dmg-raj.org</td>\n",
       "      <td>95098-15666</td>\n",
       "    </tr>\n",
       "    <tr>\n",
       "      <th>201</th>\n",
       "      <td>supgeojodhpur@dmg-</td>\n",
       "      <td>95098-15666</td>\n",
       "    </tr>\n",
       "    <tr>\n",
       "      <th>202</th>\n",
       "      <td>sgbarmer@dmg-raj.org</td>\n",
       "      <td>94143-93616</td>\n",
       "    </tr>\n",
       "  </tbody>\n",
       "</table>\n",
       "<p>203 rows × 2 columns</p>\n",
       "</div>"
      ],
      "text/plain": [
       "                         Email       Mobile\n",
       "0          minessecretary@dmg-  99291-08338\n",
       "1            jsmines-rj@nic.in  75977-89216\n",
       "2          minessecretary@dmg-  94148-28210\n",
       "3              osd@dmg-raj.org  94140-46157\n",
       "4       supgeosect@dmg-raj.org  98293-64471\n",
       "5         director@dmg-raj.org  89520-70405\n",
       "6            admed@dmg-raj.org  94142-75509\n",
       "7            admhq@dmg-raj.org  94140-97200\n",
       "8            adghq@dmg-raj.org  94143-43717\n",
       "9              ada@dmg-raj.org  94140-42843\n",
       "10              fa@dmg-raj.org  94140-33794\n",
       "11        smevighq@dmg-raj.org  97991-68501\n",
       "12         smeplan@dmg-raj.org  94142-64334\n",
       "13      major.cell@dmg-raj.org  94140-33794\n",
       "14      minor.cell@dmg-raj.org  94143-91920\n",
       "15          ta.dmg@dmg-raj.org  94143-91920\n",
       "16        supgeohq@dmg-raj.org  94611-79587\n",
       "17       supgeo.rs@dmg-raj.org  94147-37304\n",
       "18       supgeophy@dmg-raj.org  94145-57745\n",
       "19       srchemeng@dmg-raj.org  94142-89073\n",
       "20           sg.hq@dmg-raj.org  94141-62364\n",
       "21         ad.stat@dmg-raj.org  92527-95320\n",
       "22         smeplan@dmg-raj.org  94600-08059\n",
       "23           sg.rs@dmg-raj.org  94145-57745\n",
       "24              po@dmg-raj.org  94140-33794\n",
       "25       supgeophy@dmg-raj.org  94612-90828\n",
       "26             cce@dmg-raj.org  94620-22503\n",
       "27             dlr@dmg-raj.org  90017-85846\n",
       "28              fa@dmg-raj.org  94140-33794\n",
       "29          dmgoms@dmg-raj.org  96808-65436\n",
       "..                         ...          ...\n",
       "173        sgajmer@dmg-raj.org  94685-56328\n",
       "174        sgajmer@dmg-raj.org  94133-43132\n",
       "175        sgalwar@dmg-raj.org  94141-56492\n",
       "176   supgeojaipur@dmg-raj.org  94145-44223\n",
       "177        sgalwar@dmg-raj.org  94142-63213\n",
       "178     adgudaipur@dmg-raj.org  94141-62329\n",
       "179    supgeophos.udaipur@dmg-  94142-34845\n",
       "180    supgeotrib.udaipur@dmg-  94143-95618\n",
       "181        supgeobhilwara@dmg-  81079-88118\n",
       "182   se-mdudaipur@dmg-raj.org  94142-63213\n",
       "183    supgeophos.udaipur@dmg-  94147-63136\n",
       "184    supgeotrib.udaipur@dmg-  94144-48353\n",
       "185     sgbanswara@dmg-raj.org  94144-48353\n",
       "186        supgeobhilwara@dmg-  94607-79502\n",
       "187  sgchittorgarh@dmg-raj.org  94141-77418\n",
       "188    sgrajsamand@dmg-raj.org  94607-79502\n",
       "189       sgsirohi@dmg-raj.org  94147-21712\n",
       "190     meworkshopudaipur@dmg-  94144-49049\n",
       "191    supgeophos.udaipur@dmg-  94143-05131\n",
       "192    supgeotrib.udaipur@dmg-  94130-17551\n",
       "193    supgeotrib.udaipur@dmg-  94142-18109\n",
       "194  sgchittorgarh@dmg-raj.org  94609-23965\n",
       "195    sgrajsamand@dmg-raj.org  94146-04424\n",
       "196     adgjodhpur@dmg-raj.org  94609-23965\n",
       "197         supgeojodhpur@dmg-  94146-48781\n",
       "198       supgeojaisalmer@dmg-  94607-83197\n",
       "199       sgbarmer@dmg-raj.org  92143-05456\n",
       "200    sgjaisalmer@dmg-raj.org  95098-15666\n",
       "201         supgeojodhpur@dmg-  95098-15666\n",
       "202       sgbarmer@dmg-raj.org  94143-93616\n",
       "\n",
       "[203 rows x 2 columns]"
      ]
     },
     "execution_count": 208,
     "metadata": {},
     "output_type": "execute_result"
    }
   ],
   "source": [
    "import re\n",
    "import pandas as pd\n",
    "with open(\"RTI_9.txt\",\"r\") as f:\n",
    "    c=f.read()\n",
    "    l=re.findall(\"\\S+@\\S+\",c)\n",
    "    p=re.findall('[\\d+]{5}-[\\d+]{5}',c)\n",
    "    m=len(p)\n",
    "#     for i in range(len(l)):\n",
    "# #         print(l[i],end=\"   \")\n",
    "#         if i<m-1:\n",
    "# #             print(p[i])\n",
    "#         print()\n",
    "l = l[:203]\n",
    "pd.DataFrame({\"Email\":l,\"Mobile\":p})"
   ]
  },
  {
   "cell_type": "code",
   "execution_count": 189,
   "metadata": {},
   "outputs": [],
   "source": []
  },
  {
   "cell_type": "code",
   "execution_count": null,
   "metadata": {},
   "outputs": [],
   "source": []
  }
 ],
 "metadata": {
  "kernelspec": {
   "display_name": "Python 3",
   "language": "python",
   "name": "python3"
  },
  "language_info": {
   "codemirror_mode": {
    "name": "ipython",
    "version": 3
   },
   "file_extension": ".py",
   "mimetype": "text/x-python",
   "name": "python",
   "nbconvert_exporter": "python",
   "pygments_lexer": "ipython3",
   "version": "3.6.7"
  }
 },
 "nbformat": 4,
 "nbformat_minor": 2
}
