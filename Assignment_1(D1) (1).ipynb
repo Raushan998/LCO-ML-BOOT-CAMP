{
 "cells": [
  {
   "cell_type": "markdown",
   "metadata": {},
   "source": [
    "## Q1\n",
    "\n",
    "### print 'Python' 10 times without using for loop and multiline output in 10 lines\n",
    "\n",
    "#### Example"
   ]
  },
  {
   "cell_type": "raw",
   "metadata": {},
   "source": [
    "Python\n",
    "Python\n",
    "Python\n",
    "Python\n",
    "Python\n",
    "Python\n",
    "Python\n",
    "Python\n",
    "Python\n",
    "Python"
   ]
  },
  {
   "cell_type": "code",
   "execution_count": 1,
   "metadata": {},
   "outputs": [
    {
     "name": "stdout",
     "output_type": "stream",
     "text": [
      "python\n",
      "python\n",
      "python\n",
      "python\n",
      "python\n",
      "python\n",
      "python\n",
      "python\n",
      "python\n",
      "python\n",
      "\n"
     ]
    }
   ],
   "source": [
    "print(\"python\\n\"*10)"
   ]
  },
  {
   "cell_type": "markdown",
   "metadata": {},
   "source": [
    "## Q2\n",
    "\n",
    "### There is a tuple = (10,40,60,80) slice this tuple into two equal parts tup1 and tup2"
   ]
  },
  {
   "cell_type": "code",
   "execution_count": 2,
   "metadata": {},
   "outputs": [
    {
     "name": "stdout",
     "output_type": "stream",
     "text": [
      "(10, 40) (60, 80)\n"
     ]
    }
   ],
   "source": [
    "tup=(10,40,60,80)\n",
    "p=len(tup)\n",
    "tup1=tup[0:p//2]\n",
    "tup2=tup[p//2:p]\n",
    "print(tup1,tup2)"
   ]
  },
  {
   "cell_type": "markdown",
   "metadata": {},
   "source": [
    "## Q3\n",
    "\n",
    "### Assign tuple = (10,40,60,80) values respectively to z,y,x,w  with a single line execution"
   ]
  },
  {
   "cell_type": "code",
   "execution_count": 3,
   "metadata": {},
   "outputs": [
    {
     "name": "stdout",
     "output_type": "stream",
     "text": [
      "60 40 10 80\n"
     ]
    }
   ],
   "source": [
    "t=(10,40,60,80)\n",
    "(z,y,x,w)=t\n",
    "print(x,y,z,w)"
   ]
  },
  {
   "cell_type": "markdown",
   "metadata": {},
   "source": [
    "## Q4\n",
    "\n",
    "### there are two variables x = 'Python',y = 'Bootcamp' swap them in a single line execution."
   ]
  },
  {
   "cell_type": "code",
   "execution_count": 4,
   "metadata": {},
   "outputs": [
    {
     "name": "stdout",
     "output_type": "stream",
     "text": [
      "Bootcamp python\n"
     ]
    }
   ],
   "source": [
    "x=\"python\"\n",
    "y=\"Bootcamp\"\n",
    "y,x=x,y\n",
    "print(x,y)"
   ]
  },
  {
   "cell_type": "markdown",
   "metadata": {},
   "source": [
    "## Q5\n",
    "\n",
    "### if a = 'py' and b ='thon' then print 'python' as output via using variables a and b"
   ]
  },
  {
   "cell_type": "code",
   "execution_count": 5,
   "metadata": {},
   "outputs": [
    {
     "name": "stdout",
     "output_type": "stream",
     "text": [
      "python\n"
     ]
    }
   ],
   "source": [
    "a=\"py\"\n",
    "b=\"thon\"\n",
    "print(a+b)"
   ]
  },
  {
   "cell_type": "markdown",
   "metadata": {},
   "source": [
    "## Q6\n",
    "\n",
    "### there are tuples tup1=('Hello','World') and tup2=(2,4) make a new tuple using tup1 and tup2 which looks like ('Hello', 'World', 2, 4)"
   ]
  },
  {
   "cell_type": "code",
   "execution_count": 3,
   "metadata": {},
   "outputs": [
    {
     "name": "stdout",
     "output_type": "stream",
     "text": [
      " ja\n"
     ]
    }
   ],
   "source": [
    "if 1:\n",
    "    print(' ja')\n",
    "else:\n",
    "    print('aha')"
   ]
  },
  {
   "cell_type": "code",
   "execution_count": 4,
   "metadata": {
    "scrolled": true
   },
   "outputs": [
    {
     "name": "stdout",
     "output_type": "stream",
     "text": [
      "if\n",
      " else\n"
     ]
    }
   ],
   "source": [
    "if(print(\"if\")==0):\n",
    "    print(\" if\")\n",
    "else:\n",
    "    print(\" else\")"
   ]
  },
  {
   "cell_type": "code",
   "execution_count": 6,
   "metadata": {},
   "outputs": [
    {
     "name": "stdout",
     "output_type": "stream",
     "text": [
      "if loop\n"
     ]
    }
   ],
   "source": [
    "if(1):\n",
    "    print(\"if loop\")\n",
    "else:\n",
    "    print(\" else loop\")"
   ]
  },
  {
   "cell_type": "code",
   "execution_count": 7,
   "metadata": {},
   "outputs": [
    {
     "name": "stdout",
     "output_type": "stream",
     "text": [
      "('Hello', 'world', 2, 4)\n"
     ]
    }
   ],
   "source": [
    "tup1=(\"Hello\",\"world\")\n",
    "tup2=(2,4)\n",
    "tup3=()\n",
    "tup3=tup1+tup2\n",
    "print(tup3)"
   ]
  },
  {
   "cell_type": "code",
   "execution_count": null,
   "metadata": {},
   "outputs": [],
   "source": []
  }
 ],
 "metadata": {
  "kernelspec": {
   "display_name": "Python 3",
   "language": "python",
   "name": "python3"
  },
  "language_info": {
   "codemirror_mode": {
    "name": "ipython",
    "version": 3
   },
   "file_extension": ".py",
   "mimetype": "text/x-python",
   "name": "python",
   "nbconvert_exporter": "python",
   "pygments_lexer": "ipython3",
   "version": "3.6.5"
  }
 },
 "nbformat": 4,
 "nbformat_minor": 2
}
