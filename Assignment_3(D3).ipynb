{
 "cells": [
  {
   "cell_type": "markdown",
   "metadata": {},
   "source": [
    "## P1\n",
    "\n",
    "### Implement an algorithm to determine if a string has all unique characters"
   ]
  },
  {
   "cell_type": "code",
   "execution_count": 5,
   "metadata": {},
   "outputs": [
    {
     "name": "stdout",
     "output_type": "stream",
     "text": [
      "admin@123\n",
      "string has all its unique character.\n"
     ]
    }
   ],
   "source": [
    "# Answer\n",
    "def string(str1):\n",
    "    str1=input()\n",
    "    for i in range(len(str1)):\n",
    "        for j in range(i+1,len(str1)):\n",
    "            if str1[i]==str1[j]:\n",
    "                return(print(\"string has not all its unique character.\"))\n",
    "                \n",
    "        if i==len(str1)-1:\n",
    "            return(print(\"string has all its unique character.\"))\n",
    "string(str1)\n"
   ]
  },
  {
   "cell_type": "markdown",
   "metadata": {},
   "source": [
    "## P2\n",
    "\n",
    "### How can you access the element '5' from this list = [0 ,[ 6, 3], [4, 6, [7, 5] ] ]"
   ]
  },
  {
   "cell_type": "code",
   "execution_count": 23,
   "metadata": {},
   "outputs": [
    {
     "data": {
      "text/plain": [
       "5"
      ]
     },
     "execution_count": 23,
     "metadata": {},
     "output_type": "execute_result"
    }
   ],
   "source": [
    "list1=[0,[6,3],[4,6,[7,5]]]\n",
    "list1[2][2][1]"
   ]
  },
  {
   "cell_type": "markdown",
   "metadata": {},
   "source": [
    "## P3\n",
    "\n",
    "### How can you return a sub list from a list returning 3 consecutive elements where the last element links back to the first given any index into the list? (note syntax is python) \n",
    "\n",
    "For example, given index 3 for list = [1,2,3,4,5], would return [4,5,1]. Or given index 4 with list = [1,2,3,4,5], would return [5,1,2].\n"
   ]
  },
  {
   "cell_type": "code",
   "execution_count": 2,
   "metadata": {},
   "outputs": [
    {
     "name": "stdout",
     "output_type": "stream",
     "text": [
      "1 2 3 4 5 6 7 8 9\n",
      "Enter the index value:3\n",
      "[4, 5, 6]\n"
     ]
    }
   ],
   "source": [
    "# Answer\n",
    "n=list(map(int,input().split()))\n",
    "p=int(input(\"Enter the index value:\"))\n",
    "m=[]\n",
    "for i in range(p,len(n)):\n",
    "    m.append(n[i])\n",
    "    if i==len(n)-1:\n",
    "        break\n",
    "    if len(m)>=3:\n",
    "        break\n",
    "if len(m)<3:\n",
    "    for i in range(3):\n",
    "        m.append(n[i])\n",
    "        if len(m)>=3:\n",
    "            break\n",
    "print(m)\n",
    "    "
   ]
  },
  {
   "cell_type": "markdown",
   "metadata": {},
   "source": [
    "## P3\n",
    "\n",
    "You have been given 3 integers - l, r and k. Find how many numbers between l and r (both inclusive) are divisible by k. You do not need to print these numbers, you just have to find their count.\n",
    "\n",
    "Input Format\n",
    "The first and only line of input contains 3 space separated integers l, r and k.\n",
    "\n",
    "Output Format\n",
    "Print the required answer on a single line. \n",
    "\n",
    "\n",
    "SAMPLE INPUT\n",
    "\n",
    "1 10 1\n",
    "\n",
    "SAMPLE OUTPUT\n",
    "\n",
    "10"
   ]
  },
  {
   "cell_type": "code",
   "execution_count": 11,
   "metadata": {},
   "outputs": [
    {
     "name": "stdout",
     "output_type": "stream",
     "text": [
      "1 10 2\n",
      "5\n"
     ]
    }
   ],
   "source": [
    "n=list(map(int,input().split()))\n",
    "k=n[-1]\n",
    "s=0\n",
    "p=n[1]\n",
    "q=n[0]\n",
    "for i in range(q,p+1):\n",
    "    if i%k==0:\n",
    "        s+=1\n",
    "print(s)\n",
    "\n",
    "\n"
   ]
  },
  {
   "cell_type": "markdown",
   "metadata": {},
   "source": [
    "## P4\n",
    "\n",
    "### Assume you have a method isSubstring which checks if one word is a substring of another. Given two strings, s1 and s2, write code to check if s2 is a rotation of s1 using only one call to isSubstring (e.g., \"waterbottle\" is a rotation of \"erbottlewat\")."
   ]
  },
  {
   "cell_type": "code",
   "execution_count": 1,
   "metadata": {},
   "outputs": [
    {
     "name": "stdout",
     "output_type": "stream",
     "text": [
      "enter a string1:waterbottle\n",
      "enter a string2:erbottlewat\n",
      "it is substring of string1.\n"
     ]
    }
   ],
   "source": [
    "string1=input(\"enter a string1:\")\n",
    "string2=input(\"enter a string2:\")\n",
    "for i in range(len(string1)):\n",
    "    if string2[i] in string1:\n",
    "        pass\n",
    "    else:\n",
    "        print(\"not a substring of string1.\")\n",
    "        break\n",
    "    if i==len(string1)-1:\n",
    "        print(\"it is substring of string1.\")\n",
    "        "
   ]
  },
  {
   "cell_type": "markdown",
   "metadata": {},
   "source": [
    "## P5\n",
    "\n",
    "### d = {'Name' : ['ranjan','lavish','hello','python'], 'Number':[9876543210, 8765432109, 7890766157, 8754789754]}   all name and numbers are respectively related by each index. print the number of lavish"
   ]
  },
  {
   "cell_type": "code",
   "execution_count": null,
   "metadata": {},
   "outputs": [],
   "source": []
  },
  {
   "cell_type": "code",
   "execution_count": 2,
   "metadata": {},
   "outputs": [
    {
     "data": {
      "text/plain": [
       "8765432109"
      ]
     },
     "execution_count": 2,
     "metadata": {},
     "output_type": "execute_result"
    }
   ],
   "source": [
    "# Answer\n",
    "d = {'Name' : ['ranjan','lavish','hello','python'], 'Number':[9876543210, 8765432109, 7890766157, 8754789754]}\n",
    "d[\"Number\"][d[\"Name\"].index('lavish')]"
   ]
  },
  {
   "cell_type": "code",
   "execution_count": null,
   "metadata": {},
   "outputs": [],
   "source": []
  }
 ],
 "metadata": {
  "kernelspec": {
   "display_name": "Python 3",
   "language": "python",
   "name": "python3"
  },
  "language_info": {
   "codemirror_mode": {
    "name": "ipython",
    "version": 3
   },
   "file_extension": ".py",
   "mimetype": "text/x-python",
   "name": "python",
   "nbconvert_exporter": "python",
   "pygments_lexer": "ipython3",
   "version": "3.6.5"
  }
 },
 "nbformat": 4,
 "nbformat_minor": 2
}
