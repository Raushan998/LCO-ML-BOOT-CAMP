{
 "cells": [
  {
   "cell_type": "code",
   "execution_count": 26,
   "metadata": {},
   "outputs": [
    {
     "name": "stdout",
     "output_type": "stream",
     "text": [
      "http://www.feedspot.com/?ref=blog\n",
      "http://www.feedspot.com/?ref=blog\n",
      "https://blog.feedspot.com/\n",
      "https://www.feedspot.com/widgets/create?src=\n",
      "https://www.feedspot.com/?step=1&mode=googleplus&submode=blog&src=blogmobiletopembed_gp\n",
      "https://www.feedspot.com/?step=1&mode=facebook&src=blogmobiletopembed_fb\n",
      "https://blog.feedspot.com/motivational_youtube_channels/\n",
      "https://www.feedspot.com/?followfeedid=5573\n",
      "https://blog.feedspot.com/buddhist_blog/\n",
      "https://blog.feedspot.com/life_blogs/\n",
      "http://tinybuddha.com/\n",
      "https://www.feedspot.com/?followfeedid=4333380\n",
      "https://motivationgrid.com/\n",
      "https://www.feedspot.com/?followfeedid=4519591\n",
      "https://www.reddit.com/r/motivation/\n",
      "https://www.feedspot.com/?followfeedid=4519025\n",
      "http://www.fearlessmotivation.com/\n",
      "https://www.feedspot.com/?followfeedid=4461598\n",
      "https://blog.feedspot.com/uk_motivational_blogs/\n",
      "http://wealthygorilla.com/\n",
      "https://www.feedspot.com/?followfeedid=647865\n",
      "https://blog.feedspot.com/psychology_blogs/\n",
      "https://blog.feedspot.com/personal_development_blogs/\n",
      "https://blog.feedspot.com/positivity_blogs/\n",
      "https://blog.feedspot.com/inspirational_blogs/\n",
      "http://www.successconsciousness.com/blog/\n",
      "https://www.feedspot.com/?followfeedid=3998544\n",
      "http://addicted2success.com/category/motivation/#\n",
      "https://www.feedspot.com/?followfeedid=4518964\n",
      "https://www.pickthebrain.com/blog/category/motivation/\n",
      "https://www.feedspot.com/?followfeedid=969234\n",
      "http://www.getmotivation.com/motivationblog/\n",
      "https://www.feedspot.com/?followfeedid=99759\n",
      "https://blog.feedspot.com/career_blogs/\n",
      "https://blog.feedspot.com/happiness_blogs/\n",
      "http://positivesharing.com/\n",
      "https://www.feedspot.com/?followfeedid=4953930\n",
      "https://empoweringanduplifting.com/\n",
      "https://www.feedspot.com/?followfeedid=4519533\n",
      "http://megsoper.com/blog/\n",
      "https://www.feedspot.com/?followfeedid=4957972\n",
      "http://abillionthingstodo.com/\n",
      "https://www.feedspot.com/?followfeedid=4297350\n",
      "http://conniepodesta.com/blog/\n",
      "https://www.feedspot.com/?followfeedid=4969143\n",
      "https://www.silentmotivations.com/\n",
      "https://www.feedspot.com/?followfeedid=4651673\n",
      "http://smilingexpert.com/category/motivation/\n",
      "https://www.feedspot.com/?followfeedid=4954698\n",
      "https://sarasarvivek.blogspot.com/\n",
      "https://www.feedspot.com/?followfeedid=4973003\n",
      "https://beweiss.blog/\n",
      "https://www.feedspot.com/?followfeedid=4519625\n",
      "http://get-motivation.tumblr.com/\n",
      "https://www.feedspot.com/?followfeedid=4951912\n",
      "https://adoseofhope.org/\n",
      "https://www.feedspot.com/?followfeedid=4945799\n",
      "https://judyricquel.wordpress.com/\n",
      "https://www.feedspot.com/?followfeedid=4773955\n",
      "http://www.motivationignited.com/\n",
      "https://www.feedspot.com/?followfeedid=4519637\n",
      "http://inspiration-and-motivation.tumblr.com/\n",
      "https://www.feedspot.com/?followfeedid=4519008\n",
      "http://everydaypowerblog.com/in/motivation/\n",
      "https://www.feedspot.com/?followfeedid=4519557\n",
      "http://www.sassyinspiration.com/\n",
      "https://www.feedspot.com/?followfeedid=4519029\n",
      "http://stephenguise.com/blog/\n",
      "https://www.feedspot.com/?followfeedid=4669953\n",
      "https://ayietim.wordpress.com/\n",
      "https://www.feedspot.com/?followfeedid=4519554\n",
      "http://www.motivationeasy.com/\n",
      "https://www.feedspot.com/?followfeedid=86272\n",
      "http://www.dumblittleman.com/\n",
      "https://www.feedspot.com/?followfeedid=4519586\n",
      "http://warrenaugustin.com/motivational-blogs/\n",
      "https://www.feedspot.com/?followfeedid=4955966\n",
      "https://thesummer9.jimdofree.com/sun-blog/\n",
      "https://www.feedspot.com/?followfeedid=635740\n",
      "http://www.thechangeblog.com/\n",
      "https://www.feedspot.com/?followfeedid=4519535\n",
      "https://thinkkindness.org/category/motivational-blogs/\n",
      "https://www.feedspot.com/?followfeedid=4732097\n",
      "http://themileffect.com/category/motivation/\n",
      "https://www.feedspot.com/?followfeedid=4740482\n",
      "http://motivirus.com/category/motivation/\n",
      "https://www.feedspot.com/?followfeedid=4519562\n",
      "http://www.motivationalmary.com/blog/\n",
      "https://www.feedspot.com/?followfeedid=4519539\n",
      "http://motivationaldiaries.com/\n",
      "https://www.feedspot.com/?followfeedid=4519624\n",
      "http://motivateyourselfeachandeveryday.tumblr.com/\n",
      "https://motivatemenow.co.uk/\n",
      "http://www.andycave.co.uk/blog/\n",
      "https://wealthygorilla.com/\n",
      "https://2.bp.blogspot.com/-4Q9B46fc2Hg/WD01NV4fsUI/AAAAAAAAAUo/mA5IDsu1BF8wMct3F4XdyX92LemqRU4sACLcB/s1600/Motivational%2B25%2Btransparent_1000px.png\n",
      "http://feedspot.tumblr.com/post/149263256649/adding-feedspot-badge-to-your-blog\n",
      "https://blog.feedspot.com/motivational_rss_feeds/\n",
      "https://blog.feedspot.com/uk_motivational_blogs/\n",
      "https://blog.feedspot.com/gymnastics_blog/\n",
      "https://blog.feedspot.com/financial_advisor_blog/\n",
      "https://blog.feedspot.com/author/nikhil/\n",
      "https://blog.feedspot.com/psychology_blogs/\n",
      "https://blog.feedspot.com/motivational_blogs/\n",
      "https://blog.feedspot.com/astrology_blogs/\n",
      "https://blog.feedspot.com/anxiety_blogs/\n",
      "https://blog.feedspot.com/autism_blogs/\n",
      "https://blog.feedspot.com/depression_blogs/\n",
      "https://blog.feedspot.com/dyslexia_blogs/\n",
      "https://blog.feedspot.com/alzheimer_blogs/\n",
      "https://blog.feedspot.com/mental_health_blogs/\n",
      "https://blog.feedspot.com/personal_development_blogs/\n",
      "https://blog.feedspot.com/inspirational_blogs/\n",
      "https://blog.feedspot.com/hypnosis_blogs/\n",
      "https://blog.feedspot.com/consciousness_blogs/\n",
      "https://blog.feedspot.com/neuropsychology_blogs/\n",
      "https://blog.feedspot.com/narcissist_blogs/\n",
      "https://blog.feedspot.com/psychiatry_blogs/\n",
      "https://blog.feedspot.com/stress_blogs/\n",
      "https://blog.feedspot.com/school_psychologist_blogs\n",
      "https://blog.feedspot.com/borderline_personality_disorder_blogs/\n",
      "https://blog.feedspot.com/child_psychology_blogs/\n",
      "https://blog.feedspot.com/sport_psychology_blogs/\n",
      "https://blog.feedspot.com/business_psychology_blogs/\n",
      "https://blog.feedspot.com/forensic_psychology_blogs/\n",
      "https://blog.feedspot.com/social_psychology_blogs/\n",
      "https://blog.feedspot.com/general_knowledge_blogs/\n",
      "https://blog.feedspot.com/emotional_intelligence_blogs/\n",
      "http://www.feedspot.com/?ref=blog\n",
      "https://www.trustpilot.com/review/feedspot.com\n",
      "http://www.feedspot.com/fs/contact\n",
      "https://facebook.com/Feedspot\n",
      "https://twitter.com/_feedspot\n",
      "https://www.pinterest.com/feedspot/\n",
      "http://feedspot.tumblr.com/\n",
      "https://www.instagram.com/feedspotapp/\n",
      "https://www.linkedin.com/company/feedspot\n",
      "https://blog.feedspot.com/feed/\n",
      "https://www.youtube.com/watch?v=ELSRnQigBsI\n",
      "https://www.feedspot.com/?step=1&mode=googleplus&submode=blog&src=blogfixedfooter_gp\n",
      "https://www.feedspot.com/?step=1&mode=facebook&src=blogfixedfooter_fb\n",
      "https://www.feedspot.com/?step=1&mode=googleplus&submode=blog&src=bloginstantpopup_gp\n",
      "https://www.feedspot.com/?step=1&mode=facebook&submode=blog&src=bloginstantpopup_fb\n",
      "https://www.feedspot.com/fs/marketers?src=bloginstantpopup_tryfsm\n"
     ]
    }
   ],
   "source": [
    "import bs4\n",
    "import requests\n",
    "url=requests.get(\"https://blog.feedspot.com/motivational_blogs/\")\n",
    "soup=bs4.BeautifulSoup(url.text,\"lxml\")\n",
    "#print(soup.prettify())\n",
    "for link in soup.find_all('a'):\n",
    "    link = link.get('href')\n",
    "    try:\n",
    "        if(link.startswith('http')):\n",
    "            print(link)\n",
    "    except:\n",
    "        pass"
   ]
  },
  {
   "cell_type": "code",
   "execution_count": 28,
   "metadata": {},
   "outputs": [],
   "source": [
    "file=open(\"testp.txt\",\"w\")"
   ]
  },
  {
   "cell_type": "code",
   "execution_count": 29,
   "metadata": {},
   "outputs": [
    {
     "data": {
      "text/plain": [
       "['_CHUNK_SIZE',\n",
       " '__class__',\n",
       " '__del__',\n",
       " '__delattr__',\n",
       " '__dict__',\n",
       " '__dir__',\n",
       " '__doc__',\n",
       " '__enter__',\n",
       " '__eq__',\n",
       " '__exit__',\n",
       " '__format__',\n",
       " '__ge__',\n",
       " '__getattribute__',\n",
       " '__getstate__',\n",
       " '__gt__',\n",
       " '__hash__',\n",
       " '__init__',\n",
       " '__init_subclass__',\n",
       " '__iter__',\n",
       " '__le__',\n",
       " '__lt__',\n",
       " '__ne__',\n",
       " '__new__',\n",
       " '__next__',\n",
       " '__reduce__',\n",
       " '__reduce_ex__',\n",
       " '__repr__',\n",
       " '__setattr__',\n",
       " '__sizeof__',\n",
       " '__str__',\n",
       " '__subclasshook__',\n",
       " '_checkClosed',\n",
       " '_checkReadable',\n",
       " '_checkSeekable',\n",
       " '_checkWritable',\n",
       " '_finalizing',\n",
       " 'buffer',\n",
       " 'close',\n",
       " 'closed',\n",
       " 'detach',\n",
       " 'encoding',\n",
       " 'errors',\n",
       " 'fileno',\n",
       " 'flush',\n",
       " 'isatty',\n",
       " 'line_buffering',\n",
       " 'mode',\n",
       " 'name',\n",
       " 'newlines',\n",
       " 'read',\n",
       " 'readable',\n",
       " 'readline',\n",
       " 'readlines',\n",
       " 'seek',\n",
       " 'seekable',\n",
       " 'tell',\n",
       " 'truncate',\n",
       " 'writable',\n",
       " 'write',\n",
       " 'writelines']"
      ]
     },
     "execution_count": 29,
     "metadata": {},
     "output_type": "execute_result"
    }
   ],
   "source": [
    "dir(file)"
   ]
  },
  {
   "cell_type": "code",
   "execution_count": 30,
   "metadata": {},
   "outputs": [],
   "source": [
    "file.writelines(\"hello i am programmer.\")"
   ]
  },
  {
   "cell_type": "code",
   "execution_count": 31,
   "metadata": {},
   "outputs": [],
   "source": [
    "file.close()\n"
   ]
  },
  {
   "cell_type": "code",
   "execution_count": 33,
   "metadata": {},
   "outputs": [],
   "source": [
    "file=open(\"testp.txt\",\"r\")\n"
   ]
  },
  {
   "cell_type": "code",
   "execution_count": 36,
   "metadata": {},
   "outputs": [
    {
     "ename": "TypeError",
     "evalue": "integer argument expected, got 'str'",
     "output_type": "error",
     "traceback": [
      "\u001b[1;31m---------------------------------------------------------------------------\u001b[0m",
      "\u001b[1;31mTypeError\u001b[0m                                 Traceback (most recent call last)",
      "\u001b[1;32m<ipython-input-36-1d49f3fe8992>\u001b[0m in \u001b[0;36m<module>\u001b[1;34m()\u001b[0m\n\u001b[1;32m----> 1\u001b[1;33m \u001b[0mfile\u001b[0m\u001b[1;33m.\u001b[0m\u001b[0mreadlines\u001b[0m\u001b[1;33m(\u001b[0m\u001b[1;34m\"file\"\u001b[0m\u001b[1;33m)\u001b[0m\u001b[1;33m\u001b[0m\u001b[0m\n\u001b[0m",
      "\u001b[1;31mTypeError\u001b[0m: integer argument expected, got 'str'"
     ]
    }
   ],
   "source": []
  },
  {
   "cell_type": "code",
   "execution_count": 37,
   "metadata": {},
   "outputs": [
    {
     "data": {
      "text/plain": [
       "''"
      ]
     },
     "execution_count": 37,
     "metadata": {},
     "output_type": "execute_result"
    }
   ],
   "source": [
    "file.read()"
   ]
  },
  {
   "cell_type": "code",
   "execution_count": 39,
   "metadata": {},
   "outputs": [
    {
     "name": "stdout",
     "output_type": "stream",
     "text": [
      "\n"
     ]
    }
   ],
   "source": [
    "with open(\"testp.txt\",\"r\") as file:\n",
    "    p=file.read()\n",
    "    print(p)"
   ]
  },
  {
   "cell_type": "code",
   "execution_count": 40,
   "metadata": {},
   "outputs": [],
   "source": [
    "with open(\"testp.txt\",\"w\") as file:\n",
    "    p=file.writelines(\"hello I am a programmer.\")\n",
    "    "
   ]
  },
  {
   "cell_type": "code",
   "execution_count": 42,
   "metadata": {},
   "outputs": [
    {
     "name": "stdout",
     "output_type": "stream",
     "text": [
      "hello I am a programmer.\n"
     ]
    }
   ],
   "source": [
    "with open(\"testp.txt\",\"r\") as file:\n",
    "    p=file.read()\n",
    "    print(p)"
   ]
  },
  {
   "cell_type": "code",
   "execution_count": null,
   "metadata": {},
   "outputs": [],
   "source": []
  }
 ],
 "metadata": {
  "kernelspec": {
   "display_name": "Python 3",
   "language": "python",
   "name": "python3"
  },
  "language_info": {
   "codemirror_mode": {
    "name": "ipython",
    "version": 3
   },
   "file_extension": ".py",
   "mimetype": "text/x-python",
   "name": "python",
   "nbconvert_exporter": "python",
   "pygments_lexer": "ipython3",
   "version": "3.6.5"
  }
 },
 "nbformat": 4,
 "nbformat_minor": 2
}
